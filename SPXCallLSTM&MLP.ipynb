{
 "cells": [
  {
   "cell_type": "code",
   "execution_count": 1,
   "metadata": {},
   "outputs": [],
   "source": [
    "import numpy as np\n",
    "import scipy.stats as si\n",
    "def newton_vol_call(S, K, T, C, r, sigma):\n",
    "    \n",
    "    #S: spot price\n",
    "    #K: strike price\n",
    "    #T: time to maturity\n",
    "    #C: Call value\n",
    "    #r: interest rate\n",
    "    #sigma: volatility of underlying asset\n",
    "    \n",
    "    d1 = (np.log(S / K) + (r - 0.5 * sigma ** 2) * T) / (sigma * np.sqrt(T))\n",
    "    d2 = (np.log(S / K) + (r - 0.5 * sigma ** 2) * T) / (sigma * np.sqrt(T))\n",
    "    \n",
    "    fx = S * si.norm.cdf(d1, 0.0, 1.0) - K * np.exp(-r * T) * si.norm.cdf(d2, 0.0, 1.0) - C\n",
    "    \n",
    "    vega = (1 / np.sqrt(2 * np.pi)) * S * np.sqrt(T) * np.exp(-(si.norm.cdf(d1, 0.0, 1.0) ** 2) * 0.5)\n",
    "    \n",
    "    tolerance = 0.000001\n",
    "    x0 = sigma\n",
    "    xnew  = x0\n",
    "    xold = x0 - 1\n",
    "        \n",
    "    while abs(xnew - xold) > tolerance:\n",
    "    \n",
    "        xold = xnew\n",
    "        xnew = (xnew - fx - C) / vega\n",
    "        \n",
    "        return abs(xnew)"
   ]
  },
  {
   "cell_type": "markdown",
   "metadata": {},
   "source": [
    "# Now let's learn with real world data. In previous notebook, the model learned simulated prices. Let's see how the model respond to real world prices(which is not BS price)"
   ]
  },
  {
   "cell_type": "markdown",
   "metadata": {},
   "source": [
    "### Dataset obtained from discountoptiondata.com. With data_date from 2018-01-02 to 2018-10-01 all inclusive. (No gaps in dates)"
   ]
  },
  {
   "cell_type": "code",
   "execution_count": 2,
   "metadata": {},
   "outputs": [
    {
     "data": {
      "text/html": [
       "<div>\n",
       "<style scoped>\n",
       "    .dataframe tbody tr th:only-of-type {\n",
       "        vertical-align: middle;\n",
       "    }\n",
       "\n",
       "    .dataframe tbody tr th {\n",
       "        vertical-align: top;\n",
       "    }\n",
       "\n",
       "    .dataframe thead th {\n",
       "        text-align: right;\n",
       "    }\n",
       "</style>\n",
       "<table border=\"1\" class=\"dataframe\">\n",
       "  <thead>\n",
       "    <tr style=\"text-align: right;\">\n",
       "      <th></th>\n",
       "      <th>id</th>\n",
       "      <th>symbol_id</th>\n",
       "      <th>data_date</th>\n",
       "      <th>ask_price</th>\n",
       "      <th>ask_size</th>\n",
       "      <th>bid_price</th>\n",
       "      <th>bid_size</th>\n",
       "      <th>delta</th>\n",
       "      <th>expiration_date</th>\n",
       "      <th>gamma</th>\n",
       "      <th>implied_volatility</th>\n",
       "      <th>last_price</th>\n",
       "      <th>open_interest</th>\n",
       "      <th>type</th>\n",
       "      <th>rho</th>\n",
       "      <th>strike_price</th>\n",
       "      <th>underlying_price</th>\n",
       "      <th>vega</th>\n",
       "      <th>volume</th>\n",
       "    </tr>\n",
       "  </thead>\n",
       "  <tbody>\n",
       "    <tr>\n",
       "      <th>0</th>\n",
       "      <td>1</td>\n",
       "      <td>1</td>\n",
       "      <td>2018-01-02 00:00:00</td>\n",
       "      <td>2595.2</td>\n",
       "      <td>NaN</td>\n",
       "      <td>2588.6</td>\n",
       "      <td>NaN</td>\n",
       "      <td>0.9991</td>\n",
       "      <td>2018-01-19 00:00:00</td>\n",
       "      <td>0.0000</td>\n",
       "      <td>0.0589</td>\n",
       "      <td>2580.00</td>\n",
       "      <td>3166.0</td>\n",
       "      <td>call</td>\n",
       "      <td>NaN</td>\n",
       "      <td>100.0</td>\n",
       "      <td>2695.79</td>\n",
       "      <td>0.0000</td>\n",
       "      <td>0</td>\n",
       "    </tr>\n",
       "    <tr>\n",
       "      <th>1</th>\n",
       "      <td>2</td>\n",
       "      <td>1</td>\n",
       "      <td>2018-01-02 00:00:00</td>\n",
       "      <td>2495.4</td>\n",
       "      <td>NaN</td>\n",
       "      <td>2488.8</td>\n",
       "      <td>NaN</td>\n",
       "      <td>0.9991</td>\n",
       "      <td>2018-01-19 00:00:00</td>\n",
       "      <td>0.0000</td>\n",
       "      <td>0.0589</td>\n",
       "      <td>2441.10</td>\n",
       "      <td>27.0</td>\n",
       "      <td>call</td>\n",
       "      <td>NaN</td>\n",
       "      <td>200.0</td>\n",
       "      <td>2695.79</td>\n",
       "      <td>0.0000</td>\n",
       "      <td>0</td>\n",
       "    </tr>\n",
       "    <tr>\n",
       "      <th>2</th>\n",
       "      <td>3</td>\n",
       "      <td>1</td>\n",
       "      <td>2018-01-02 00:00:00</td>\n",
       "      <td>2395.5</td>\n",
       "      <td>NaN</td>\n",
       "      <td>2388.9</td>\n",
       "      <td>NaN</td>\n",
       "      <td>0.9991</td>\n",
       "      <td>2018-01-19 00:00:00</td>\n",
       "      <td>0.0000</td>\n",
       "      <td>0.0589</td>\n",
       "      <td>2381.95</td>\n",
       "      <td>187.0</td>\n",
       "      <td>call</td>\n",
       "      <td>NaN</td>\n",
       "      <td>300.0</td>\n",
       "      <td>2695.79</td>\n",
       "      <td>0.0000</td>\n",
       "      <td>0</td>\n",
       "    </tr>\n",
       "    <tr>\n",
       "      <th>3</th>\n",
       "      <td>4</td>\n",
       "      <td>1</td>\n",
       "      <td>2018-01-02 00:00:00</td>\n",
       "      <td>2295.6</td>\n",
       "      <td>NaN</td>\n",
       "      <td>2289.0</td>\n",
       "      <td>NaN</td>\n",
       "      <td>0.9991</td>\n",
       "      <td>2018-01-19 00:00:00</td>\n",
       "      <td>0.0000</td>\n",
       "      <td>0.0589</td>\n",
       "      <td>2281.60</td>\n",
       "      <td>42.0</td>\n",
       "      <td>call</td>\n",
       "      <td>NaN</td>\n",
       "      <td>400.0</td>\n",
       "      <td>2695.79</td>\n",
       "      <td>0.0000</td>\n",
       "      <td>0</td>\n",
       "    </tr>\n",
       "    <tr>\n",
       "      <th>4</th>\n",
       "      <td>5</td>\n",
       "      <td>1</td>\n",
       "      <td>2018-01-02 00:00:00</td>\n",
       "      <td>2195.6</td>\n",
       "      <td>NaN</td>\n",
       "      <td>2189.1</td>\n",
       "      <td>NaN</td>\n",
       "      <td>0.9991</td>\n",
       "      <td>2018-01-19 00:00:00</td>\n",
       "      <td>0.0000</td>\n",
       "      <td>0.0589</td>\n",
       "      <td>2180.00</td>\n",
       "      <td>201.0</td>\n",
       "      <td>call</td>\n",
       "      <td>NaN</td>\n",
       "      <td>500.0</td>\n",
       "      <td>2695.79</td>\n",
       "      <td>0.0000</td>\n",
       "      <td>0</td>\n",
       "    </tr>\n",
       "    <tr>\n",
       "      <th>...</th>\n",
       "      <td>...</td>\n",
       "      <td>...</td>\n",
       "      <td>...</td>\n",
       "      <td>...</td>\n",
       "      <td>...</td>\n",
       "      <td>...</td>\n",
       "      <td>...</td>\n",
       "      <td>...</td>\n",
       "      <td>...</td>\n",
       "      <td>...</td>\n",
       "      <td>...</td>\n",
       "      <td>...</td>\n",
       "      <td>...</td>\n",
       "      <td>...</td>\n",
       "      <td>...</td>\n",
       "      <td>...</td>\n",
       "      <td>...</td>\n",
       "      <td>...</td>\n",
       "      <td>...</td>\n",
       "    </tr>\n",
       "    <tr>\n",
       "      <th>308067</th>\n",
       "      <td>2421126</td>\n",
       "      <td>1</td>\n",
       "      <td>2018-10-01 00:00:00</td>\n",
       "      <td>21.7</td>\n",
       "      <td>NaN</td>\n",
       "      <td>19.4</td>\n",
       "      <td>NaN</td>\n",
       "      <td>0.0956</td>\n",
       "      <td>2020-12-18 00:00:00</td>\n",
       "      <td>0.0003</td>\n",
       "      <td>0.1123</td>\n",
       "      <td>21.10</td>\n",
       "      <td>1449.0</td>\n",
       "      <td>call</td>\n",
       "      <td>NaN</td>\n",
       "      <td>3800.0</td>\n",
       "      <td>2924.61</td>\n",
       "      <td>735.0706</td>\n",
       "      <td>5</td>\n",
       "    </tr>\n",
       "    <tr>\n",
       "      <th>308068</th>\n",
       "      <td>2421127</td>\n",
       "      <td>1</td>\n",
       "      <td>2018-10-01 00:00:00</td>\n",
       "      <td>15.1</td>\n",
       "      <td>NaN</td>\n",
       "      <td>13.3</td>\n",
       "      <td>NaN</td>\n",
       "      <td>0.0703</td>\n",
       "      <td>2020-12-18 00:00:00</td>\n",
       "      <td>0.0003</td>\n",
       "      <td>0.1115</td>\n",
       "      <td>14.10</td>\n",
       "      <td>377.0</td>\n",
       "      <td>call</td>\n",
       "      <td>NaN</td>\n",
       "      <td>3900.0</td>\n",
       "      <td>2924.61</td>\n",
       "      <td>583.8153</td>\n",
       "      <td>5</td>\n",
       "    </tr>\n",
       "    <tr>\n",
       "      <th>308069</th>\n",
       "      <td>2421128</td>\n",
       "      <td>1</td>\n",
       "      <td>2018-10-01 00:00:00</td>\n",
       "      <td>10.9</td>\n",
       "      <td>NaN</td>\n",
       "      <td>9.5</td>\n",
       "      <td>NaN</td>\n",
       "      <td>0.0531</td>\n",
       "      <td>2020-12-18 00:00:00</td>\n",
       "      <td>0.0002</td>\n",
       "      <td>0.1121</td>\n",
       "      <td>9.95</td>\n",
       "      <td>649.0</td>\n",
       "      <td>call</td>\n",
       "      <td>NaN</td>\n",
       "      <td>4000.0</td>\n",
       "      <td>2924.61</td>\n",
       "      <td>468.7710</td>\n",
       "      <td>1</td>\n",
       "    </tr>\n",
       "    <tr>\n",
       "      <th>308070</th>\n",
       "      <td>2421129</td>\n",
       "      <td>1</td>\n",
       "      <td>2018-10-01 00:00:00</td>\n",
       "      <td>8.4</td>\n",
       "      <td>NaN</td>\n",
       "      <td>7.0</td>\n",
       "      <td>NaN</td>\n",
       "      <td>0.0413</td>\n",
       "      <td>2020-12-18 00:00:00</td>\n",
       "      <td>0.0002</td>\n",
       "      <td>0.1137</td>\n",
       "      <td>7.95</td>\n",
       "      <td>1119.0</td>\n",
       "      <td>call</td>\n",
       "      <td>NaN</td>\n",
       "      <td>4100.0</td>\n",
       "      <td>2924.61</td>\n",
       "      <td>383.1931</td>\n",
       "      <td>2</td>\n",
       "    </tr>\n",
       "    <tr>\n",
       "      <th>308071</th>\n",
       "      <td>2421130</td>\n",
       "      <td>1</td>\n",
       "      <td>2018-10-01 00:00:00</td>\n",
       "      <td>6.9</td>\n",
       "      <td>NaN</td>\n",
       "      <td>5.3</td>\n",
       "      <td>NaN</td>\n",
       "      <td>0.0333</td>\n",
       "      <td>2020-12-18 00:00:00</td>\n",
       "      <td>0.0001</td>\n",
       "      <td>0.1162</td>\n",
       "      <td>6.80</td>\n",
       "      <td>8.0</td>\n",
       "      <td>call</td>\n",
       "      <td>NaN</td>\n",
       "      <td>4200.0</td>\n",
       "      <td>2924.61</td>\n",
       "      <td>321.6811</td>\n",
       "      <td>3</td>\n",
       "    </tr>\n",
       "  </tbody>\n",
       "</table>\n",
       "<p>308072 rows × 19 columns</p>\n",
       "</div>"
      ],
      "text/plain": [
       "             id  symbol_id            data_date  ask_price  ask_size  \\\n",
       "0             1          1  2018-01-02 00:00:00     2595.2       NaN   \n",
       "1             2          1  2018-01-02 00:00:00     2495.4       NaN   \n",
       "2             3          1  2018-01-02 00:00:00     2395.5       NaN   \n",
       "3             4          1  2018-01-02 00:00:00     2295.6       NaN   \n",
       "4             5          1  2018-01-02 00:00:00     2195.6       NaN   \n",
       "...         ...        ...                  ...        ...       ...   \n",
       "308067  2421126          1  2018-10-01 00:00:00       21.7       NaN   \n",
       "308068  2421127          1  2018-10-01 00:00:00       15.1       NaN   \n",
       "308069  2421128          1  2018-10-01 00:00:00       10.9       NaN   \n",
       "308070  2421129          1  2018-10-01 00:00:00        8.4       NaN   \n",
       "308071  2421130          1  2018-10-01 00:00:00        6.9       NaN   \n",
       "\n",
       "        bid_price  bid_size   delta      expiration_date   gamma  \\\n",
       "0          2588.6       NaN  0.9991  2018-01-19 00:00:00  0.0000   \n",
       "1          2488.8       NaN  0.9991  2018-01-19 00:00:00  0.0000   \n",
       "2          2388.9       NaN  0.9991  2018-01-19 00:00:00  0.0000   \n",
       "3          2289.0       NaN  0.9991  2018-01-19 00:00:00  0.0000   \n",
       "4          2189.1       NaN  0.9991  2018-01-19 00:00:00  0.0000   \n",
       "...           ...       ...     ...                  ...     ...   \n",
       "308067       19.4       NaN  0.0956  2020-12-18 00:00:00  0.0003   \n",
       "308068       13.3       NaN  0.0703  2020-12-18 00:00:00  0.0003   \n",
       "308069        9.5       NaN  0.0531  2020-12-18 00:00:00  0.0002   \n",
       "308070        7.0       NaN  0.0413  2020-12-18 00:00:00  0.0002   \n",
       "308071        5.3       NaN  0.0333  2020-12-18 00:00:00  0.0001   \n",
       "\n",
       "        implied_volatility  last_price  open_interest  type  rho  \\\n",
       "0                   0.0589     2580.00         3166.0  call  NaN   \n",
       "1                   0.0589     2441.10           27.0  call  NaN   \n",
       "2                   0.0589     2381.95          187.0  call  NaN   \n",
       "3                   0.0589     2281.60           42.0  call  NaN   \n",
       "4                   0.0589     2180.00          201.0  call  NaN   \n",
       "...                    ...         ...            ...   ...  ...   \n",
       "308067              0.1123       21.10         1449.0  call  NaN   \n",
       "308068              0.1115       14.10          377.0  call  NaN   \n",
       "308069              0.1121        9.95          649.0  call  NaN   \n",
       "308070              0.1137        7.95         1119.0  call  NaN   \n",
       "308071              0.1162        6.80            8.0  call  NaN   \n",
       "\n",
       "        strike_price  underlying_price      vega  volume  \n",
       "0              100.0           2695.79    0.0000       0  \n",
       "1              200.0           2695.79    0.0000       0  \n",
       "2              300.0           2695.79    0.0000       0  \n",
       "3              400.0           2695.79    0.0000       0  \n",
       "4              500.0           2695.79    0.0000       0  \n",
       "...              ...               ...       ...     ...  \n",
       "308067        3800.0           2924.61  735.0706       5  \n",
       "308068        3900.0           2924.61  583.8153       5  \n",
       "308069        4000.0           2924.61  468.7710       1  \n",
       "308070        4100.0           2924.61  383.1931       2  \n",
       "308071        4200.0           2924.61  321.6811       3  \n",
       "\n",
       "[308072 rows x 19 columns]"
      ]
     },
     "execution_count": 2,
     "metadata": {},
     "output_type": "execute_result"
    }
   ],
   "source": [
    "import pandas as pd\n",
    "spxcall = pd.read_csv(\"Data/spxCallDiscount.csv\")\n",
    "spxcall"
   ]
  },
  {
   "cell_type": "code",
   "execution_count": 3,
   "metadata": {
    "scrolled": true
   },
   "outputs": [],
   "source": [
    "spxcall['expiration'] = pd.to_datetime(spxcall.loc[:,\"expiration_date\"]) - pd.to_datetime(spxcall.loc[:,\"data_date\"])\n",
    "spxcall['expiration'] = (spxcall['expiration']/np.timedelta64(1, 'D')).astype(int)\n",
    "spxcall['price'] = (spxcall.loc[:,\"ask_price\"]+ spxcall.loc[:,\"bid_price\"])/2\n",
    "spxcall['moneyness'] = spxcall['underlying_price']/ spxcall['strike_price']\n"
   ]
  },
  {
   "cell_type": "code",
   "execution_count": 4,
   "metadata": {},
   "outputs": [
    {
     "data": {
      "text/plain": [
       "0.025"
      ]
     },
     "execution_count": 4,
     "metadata": {},
     "output_type": "execute_result"
    }
   ],
   "source": [
    "min(spxcall['price'])"
   ]
  },
  {
   "cell_type": "code",
   "execution_count": 5,
   "metadata": {
    "scrolled": true
   },
   "outputs": [
    {
     "data": {
      "text/plain": [
       "underlying_price      0\n",
       "strike_price          0\n",
       "expiration            0\n",
       "moneyness             0\n",
       "price                 0\n",
       "implied_volatility    0\n",
       "data_date             0\n",
       "dtype: int64"
      ]
     },
     "execution_count": 5,
     "metadata": {},
     "output_type": "execute_result"
    }
   ],
   "source": [
    "#Inputs: underlying price, strike price ,expiration,interest rate, historical volatility, moneyness (S,K,T,v,S/K)\n",
    "#Outputs: price, implied volatility\n",
    "spxcall = spxcall[[\"underlying_price\",\"strike_price\",\"expiration\",\"moneyness\",\"price\",\"implied_volatility\",\"data_date\"]]\n",
    "spxcall.isnull().sum()"
   ]
  },
  {
   "cell_type": "code",
   "execution_count": 6,
   "metadata": {
    "scrolled": true
   },
   "outputs": [
    {
     "data": {
      "text/plain": [
       "0"
      ]
     },
     "execution_count": 6,
     "metadata": {},
     "output_type": "execute_result"
    }
   ],
   "source": [
    "grouped = spxcall.groupby('data_date').max()\n",
    "grouped['log ret'] = abs(np.log(grouped.underlying_price) - np.log(grouped.underlying_price.shift(1)))\n",
    "grouped['log ret'] = grouped['log ret'] * (252)**0.5\n",
    "grouped = grouped.reset_index()\n",
    "grouped = grouped.loc[:,['data_date','log ret']]\n",
    "\n",
    "# check negative values\n",
    "sum(grouped['log ret']<=0)"
   ]
  },
  {
   "cell_type": "code",
   "execution_count": 7,
   "metadata": {},
   "outputs": [
    {
     "data": {
      "text/html": [
       "<div>\n",
       "<style scoped>\n",
       "    .dataframe tbody tr th:only-of-type {\n",
       "        vertical-align: middle;\n",
       "    }\n",
       "\n",
       "    .dataframe tbody tr th {\n",
       "        vertical-align: top;\n",
       "    }\n",
       "\n",
       "    .dataframe thead th {\n",
       "        text-align: right;\n",
       "    }\n",
       "</style>\n",
       "<table border=\"1\" class=\"dataframe\">\n",
       "  <thead>\n",
       "    <tr style=\"text-align: right;\">\n",
       "      <th></th>\n",
       "      <th>data_date</th>\n",
       "      <th>underlying_price</th>\n",
       "      <th>strike_price</th>\n",
       "      <th>expiration</th>\n",
       "      <th>moneyness</th>\n",
       "      <th>price</th>\n",
       "      <th>implied_volatility</th>\n",
       "      <th>Vol</th>\n",
       "    </tr>\n",
       "  </thead>\n",
       "  <tbody>\n",
       "    <tr>\n",
       "      <th>0</th>\n",
       "      <td>2018-01-03 00:00:00</td>\n",
       "      <td>2713.06</td>\n",
       "      <td>1675.0</td>\n",
       "      <td>16</td>\n",
       "      <td>1.619737</td>\n",
       "      <td>1037.10</td>\n",
       "      <td>0.0581</td>\n",
       "      <td>0.101372</td>\n",
       "    </tr>\n",
       "    <tr>\n",
       "      <th>1</th>\n",
       "      <td>2018-01-03 00:00:00</td>\n",
       "      <td>2713.06</td>\n",
       "      <td>1700.0</td>\n",
       "      <td>16</td>\n",
       "      <td>1.595918</td>\n",
       "      <td>1012.10</td>\n",
       "      <td>0.0581</td>\n",
       "      <td>0.101372</td>\n",
       "    </tr>\n",
       "    <tr>\n",
       "      <th>2</th>\n",
       "      <td>2018-01-03 00:00:00</td>\n",
       "      <td>2713.06</td>\n",
       "      <td>1725.0</td>\n",
       "      <td>16</td>\n",
       "      <td>1.572788</td>\n",
       "      <td>987.10</td>\n",
       "      <td>0.0581</td>\n",
       "      <td>0.101372</td>\n",
       "    </tr>\n",
       "    <tr>\n",
       "      <th>3</th>\n",
       "      <td>2018-01-03 00:00:00</td>\n",
       "      <td>2713.06</td>\n",
       "      <td>1750.0</td>\n",
       "      <td>16</td>\n",
       "      <td>1.550320</td>\n",
       "      <td>962.10</td>\n",
       "      <td>0.0581</td>\n",
       "      <td>0.101372</td>\n",
       "    </tr>\n",
       "    <tr>\n",
       "      <th>4</th>\n",
       "      <td>2018-01-03 00:00:00</td>\n",
       "      <td>2713.06</td>\n",
       "      <td>1775.0</td>\n",
       "      <td>16</td>\n",
       "      <td>1.528485</td>\n",
       "      <td>937.20</td>\n",
       "      <td>0.0581</td>\n",
       "      <td>0.101372</td>\n",
       "    </tr>\n",
       "    <tr>\n",
       "      <th>...</th>\n",
       "      <td>...</td>\n",
       "      <td>...</td>\n",
       "      <td>...</td>\n",
       "      <td>...</td>\n",
       "      <td>...</td>\n",
       "      <td>...</td>\n",
       "      <td>...</td>\n",
       "      <td>...</td>\n",
       "    </tr>\n",
       "    <tr>\n",
       "      <th>306670</th>\n",
       "      <td>2018-10-01 00:00:00</td>\n",
       "      <td>2924.61</td>\n",
       "      <td>3800.0</td>\n",
       "      <td>809</td>\n",
       "      <td>0.769634</td>\n",
       "      <td>20.55</td>\n",
       "      <td>0.1123</td>\n",
       "      <td>0.058076</td>\n",
       "    </tr>\n",
       "    <tr>\n",
       "      <th>306671</th>\n",
       "      <td>2018-10-01 00:00:00</td>\n",
       "      <td>2924.61</td>\n",
       "      <td>3900.0</td>\n",
       "      <td>809</td>\n",
       "      <td>0.749900</td>\n",
       "      <td>14.20</td>\n",
       "      <td>0.1115</td>\n",
       "      <td>0.058076</td>\n",
       "    </tr>\n",
       "    <tr>\n",
       "      <th>306672</th>\n",
       "      <td>2018-10-01 00:00:00</td>\n",
       "      <td>2924.61</td>\n",
       "      <td>4000.0</td>\n",
       "      <td>809</td>\n",
       "      <td>0.731152</td>\n",
       "      <td>10.20</td>\n",
       "      <td>0.1121</td>\n",
       "      <td>0.058076</td>\n",
       "    </tr>\n",
       "    <tr>\n",
       "      <th>306673</th>\n",
       "      <td>2018-10-01 00:00:00</td>\n",
       "      <td>2924.61</td>\n",
       "      <td>4100.0</td>\n",
       "      <td>809</td>\n",
       "      <td>0.713320</td>\n",
       "      <td>7.70</td>\n",
       "      <td>0.1137</td>\n",
       "      <td>0.058076</td>\n",
       "    </tr>\n",
       "    <tr>\n",
       "      <th>306674</th>\n",
       "      <td>2018-10-01 00:00:00</td>\n",
       "      <td>2924.61</td>\n",
       "      <td>4200.0</td>\n",
       "      <td>809</td>\n",
       "      <td>0.696336</td>\n",
       "      <td>6.10</td>\n",
       "      <td>0.1162</td>\n",
       "      <td>0.058076</td>\n",
       "    </tr>\n",
       "  </tbody>\n",
       "</table>\n",
       "<p>306675 rows × 8 columns</p>\n",
       "</div>"
      ],
      "text/plain": [
       "                  data_date  underlying_price  strike_price  expiration  \\\n",
       "0       2018-01-03 00:00:00           2713.06        1675.0          16   \n",
       "1       2018-01-03 00:00:00           2713.06        1700.0          16   \n",
       "2       2018-01-03 00:00:00           2713.06        1725.0          16   \n",
       "3       2018-01-03 00:00:00           2713.06        1750.0          16   \n",
       "4       2018-01-03 00:00:00           2713.06        1775.0          16   \n",
       "...                     ...               ...           ...         ...   \n",
       "306670  2018-10-01 00:00:00           2924.61        3800.0         809   \n",
       "306671  2018-10-01 00:00:00           2924.61        3900.0         809   \n",
       "306672  2018-10-01 00:00:00           2924.61        4000.0         809   \n",
       "306673  2018-10-01 00:00:00           2924.61        4100.0         809   \n",
       "306674  2018-10-01 00:00:00           2924.61        4200.0         809   \n",
       "\n",
       "        moneyness    price  implied_volatility       Vol  \n",
       "0        1.619737  1037.10              0.0581  0.101372  \n",
       "1        1.595918  1012.10              0.0581  0.101372  \n",
       "2        1.572788   987.10              0.0581  0.101372  \n",
       "3        1.550320   962.10              0.0581  0.101372  \n",
       "4        1.528485   937.20              0.0581  0.101372  \n",
       "...           ...      ...                 ...       ...  \n",
       "306670   0.769634    20.55              0.1123  0.058076  \n",
       "306671   0.749900    14.20              0.1115  0.058076  \n",
       "306672   0.731152    10.20              0.1121  0.058076  \n",
       "306673   0.713320     7.70              0.1137  0.058076  \n",
       "306674   0.696336     6.10              0.1162  0.058076  \n",
       "\n",
       "[306675 rows x 8 columns]"
      ]
     },
     "execution_count": 7,
     "metadata": {},
     "output_type": "execute_result"
    }
   ],
   "source": [
    "spxcall = pd.concat([spxcall.set_index('data_date'),grouped.set_index('data_date')], axis=1, join='inner').reset_index()\n",
    "spxcall = spxcall[spxcall['data_date']!= '2018-01-02 00:00:00'].reset_index()\n",
    "spxcall = spxcall.drop(columns = 'index')\n",
    "spxcall['Vol'] = spxcall['log ret']\n",
    "spxcall.drop(['log ret'],axis = 1)"
   ]
  },
  {
   "cell_type": "code",
   "execution_count": 8,
   "metadata": {
    "scrolled": true
   },
   "outputs": [
    {
     "data": {
      "text/html": [
       "<div>\n",
       "<style scoped>\n",
       "    .dataframe tbody tr th:only-of-type {\n",
       "        vertical-align: middle;\n",
       "    }\n",
       "\n",
       "    .dataframe tbody tr th {\n",
       "        vertical-align: top;\n",
       "    }\n",
       "\n",
       "    .dataframe thead th {\n",
       "        text-align: right;\n",
       "    }\n",
       "</style>\n",
       "<table border=\"1\" class=\"dataframe\">\n",
       "  <thead>\n",
       "    <tr style=\"text-align: right;\">\n",
       "      <th></th>\n",
       "      <th>data_date</th>\n",
       "      <th>underlying_price</th>\n",
       "      <th>strike_price</th>\n",
       "      <th>expiration</th>\n",
       "      <th>moneyness</th>\n",
       "      <th>price</th>\n",
       "      <th>implied_volatility</th>\n",
       "      <th>log ret</th>\n",
       "      <th>Vol</th>\n",
       "    </tr>\n",
       "  </thead>\n",
       "  <tbody>\n",
       "    <tr>\n",
       "      <th>0</th>\n",
       "      <td>2018-01-03 00:00:00</td>\n",
       "      <td>2713.06</td>\n",
       "      <td>1675.0</td>\n",
       "      <td>16</td>\n",
       "      <td>1.619737</td>\n",
       "      <td>1037.1</td>\n",
       "      <td>0.0581</td>\n",
       "      <td>0.101372</td>\n",
       "      <td>0.101372</td>\n",
       "    </tr>\n",
       "    <tr>\n",
       "      <th>1</th>\n",
       "      <td>2018-01-03 00:00:00</td>\n",
       "      <td>2713.06</td>\n",
       "      <td>1700.0</td>\n",
       "      <td>16</td>\n",
       "      <td>1.595918</td>\n",
       "      <td>1012.1</td>\n",
       "      <td>0.0581</td>\n",
       "      <td>0.101372</td>\n",
       "      <td>0.101372</td>\n",
       "    </tr>\n",
       "    <tr>\n",
       "      <th>2</th>\n",
       "      <td>2018-01-03 00:00:00</td>\n",
       "      <td>2713.06</td>\n",
       "      <td>1725.0</td>\n",
       "      <td>16</td>\n",
       "      <td>1.572788</td>\n",
       "      <td>987.1</td>\n",
       "      <td>0.0581</td>\n",
       "      <td>0.101372</td>\n",
       "      <td>0.101372</td>\n",
       "    </tr>\n",
       "    <tr>\n",
       "      <th>3</th>\n",
       "      <td>2018-01-03 00:00:00</td>\n",
       "      <td>2713.06</td>\n",
       "      <td>1750.0</td>\n",
       "      <td>16</td>\n",
       "      <td>1.550320</td>\n",
       "      <td>962.1</td>\n",
       "      <td>0.0581</td>\n",
       "      <td>0.101372</td>\n",
       "      <td>0.101372</td>\n",
       "    </tr>\n",
       "    <tr>\n",
       "      <th>4</th>\n",
       "      <td>2018-01-03 00:00:00</td>\n",
       "      <td>2713.06</td>\n",
       "      <td>1775.0</td>\n",
       "      <td>16</td>\n",
       "      <td>1.528485</td>\n",
       "      <td>937.2</td>\n",
       "      <td>0.0581</td>\n",
       "      <td>0.101372</td>\n",
       "      <td>0.101372</td>\n",
       "    </tr>\n",
       "  </tbody>\n",
       "</table>\n",
       "</div>"
      ],
      "text/plain": [
       "             data_date  underlying_price  strike_price  expiration  moneyness  \\\n",
       "0  2018-01-03 00:00:00           2713.06        1675.0          16   1.619737   \n",
       "1  2018-01-03 00:00:00           2713.06        1700.0          16   1.595918   \n",
       "2  2018-01-03 00:00:00           2713.06        1725.0          16   1.572788   \n",
       "3  2018-01-03 00:00:00           2713.06        1750.0          16   1.550320   \n",
       "4  2018-01-03 00:00:00           2713.06        1775.0          16   1.528485   \n",
       "\n",
       "    price  implied_volatility   log ret       Vol  \n",
       "0  1037.1              0.0581  0.101372  0.101372  \n",
       "1  1012.1              0.0581  0.101372  0.101372  \n",
       "2   987.1              0.0581  0.101372  0.101372  \n",
       "3   962.1              0.0581  0.101372  0.101372  \n",
       "4   937.2              0.0581  0.101372  0.101372  "
      ]
     },
     "execution_count": 8,
     "metadata": {},
     "output_type": "execute_result"
    }
   ],
   "source": [
    "spxcall.head()\n",
    "# since historical volatility is one of BS inputs, and HV is computed from standard deviation of  log ret.\n",
    "# For simplicity, we will use abs log ret as a varaition of HV\n",
    "# to compute annualized realized HV of today, get log return (or pct change) of previous 21 daysrolling window, geet standard deviation\n",
    "# do that for remaining days, then annaulize it by 252**0.5"
   ]
  },
  {
   "cell_type": "markdown",
   "metadata": {},
   "source": [
    "### No interest rate given, so choose interest rate from 1% to 3% according to US treasury bond values"
   ]
  },
  {
   "cell_type": "code",
   "execution_count": 9,
   "metadata": {},
   "outputs": [],
   "source": [
    "np.random.seed(seed=1)\n",
    "spxcall['Risk Free'] = np.random.uniform(1/100,3/100,size = 306675)"
   ]
  },
  {
   "cell_type": "code",
   "execution_count": 10,
   "metadata": {},
   "outputs": [
    {
     "data": {
      "text/html": [
       "<div>\n",
       "<style scoped>\n",
       "    .dataframe tbody tr th:only-of-type {\n",
       "        vertical-align: middle;\n",
       "    }\n",
       "\n",
       "    .dataframe tbody tr th {\n",
       "        vertical-align: top;\n",
       "    }\n",
       "\n",
       "    .dataframe thead th {\n",
       "        text-align: right;\n",
       "    }\n",
       "</style>\n",
       "<table border=\"1\" class=\"dataframe\">\n",
       "  <thead>\n",
       "    <tr style=\"text-align: right;\">\n",
       "      <th></th>\n",
       "      <th>data_date</th>\n",
       "      <th>underlying_price</th>\n",
       "      <th>strike_price</th>\n",
       "      <th>expiration</th>\n",
       "      <th>moneyness</th>\n",
       "      <th>price</th>\n",
       "      <th>implied_volatility</th>\n",
       "      <th>log ret</th>\n",
       "      <th>Vol</th>\n",
       "      <th>Risk Free</th>\n",
       "    </tr>\n",
       "  </thead>\n",
       "  <tbody>\n",
       "    <tr>\n",
       "      <th>33278</th>\n",
       "      <td>2018-02-05 00:00:00</td>\n",
       "      <td>2648.98</td>\n",
       "      <td>3010.0</td>\n",
       "      <td>11</td>\n",
       "      <td>0.880060</td>\n",
       "      <td>0.075</td>\n",
       "      <td>0.0</td>\n",
       "      <td>1.004343</td>\n",
       "      <td>1.004343</td>\n",
       "      <td>0.029140</td>\n",
       "    </tr>\n",
       "    <tr>\n",
       "      <th>33283</th>\n",
       "      <td>2018-02-05 00:00:00</td>\n",
       "      <td>2648.98</td>\n",
       "      <td>3035.0</td>\n",
       "      <td>11</td>\n",
       "      <td>0.872811</td>\n",
       "      <td>0.525</td>\n",
       "      <td>0.0</td>\n",
       "      <td>1.004343</td>\n",
       "      <td>1.004343</td>\n",
       "      <td>0.024491</td>\n",
       "    </tr>\n",
       "    <tr>\n",
       "      <th>33286</th>\n",
       "      <td>2018-02-05 00:00:00</td>\n",
       "      <td>2648.98</td>\n",
       "      <td>3050.0</td>\n",
       "      <td>11</td>\n",
       "      <td>0.868518</td>\n",
       "      <td>0.075</td>\n",
       "      <td>0.0</td>\n",
       "      <td>1.004343</td>\n",
       "      <td>1.004343</td>\n",
       "      <td>0.017375</td>\n",
       "    </tr>\n",
       "    <tr>\n",
       "      <th>33565</th>\n",
       "      <td>2018-02-05 00:00:00</td>\n",
       "      <td>2648.98</td>\n",
       "      <td>1100.0</td>\n",
       "      <td>74</td>\n",
       "      <td>2.408164</td>\n",
       "      <td>1525.850</td>\n",
       "      <td>0.0</td>\n",
       "      <td>1.004343</td>\n",
       "      <td>1.004343</td>\n",
       "      <td>0.029559</td>\n",
       "    </tr>\n",
       "    <tr>\n",
       "      <th>33566</th>\n",
       "      <td>2018-02-05 00:00:00</td>\n",
       "      <td>2648.98</td>\n",
       "      <td>1200.0</td>\n",
       "      <td>74</td>\n",
       "      <td>2.207483</td>\n",
       "      <td>1426.650</td>\n",
       "      <td>0.0</td>\n",
       "      <td>1.004343</td>\n",
       "      <td>1.004343</td>\n",
       "      <td>0.012047</td>\n",
       "    </tr>\n",
       "  </tbody>\n",
       "</table>\n",
       "</div>"
      ],
      "text/plain": [
       "                 data_date  underlying_price  strike_price  expiration  \\\n",
       "33278  2018-02-05 00:00:00           2648.98        3010.0          11   \n",
       "33283  2018-02-05 00:00:00           2648.98        3035.0          11   \n",
       "33286  2018-02-05 00:00:00           2648.98        3050.0          11   \n",
       "33565  2018-02-05 00:00:00           2648.98        1100.0          74   \n",
       "33566  2018-02-05 00:00:00           2648.98        1200.0          74   \n",
       "\n",
       "       moneyness     price  implied_volatility   log ret       Vol  Risk Free  \n",
       "33278   0.880060     0.075                 0.0  1.004343  1.004343   0.029140  \n",
       "33283   0.872811     0.525                 0.0  1.004343  1.004343   0.024491  \n",
       "33286   0.868518     0.075                 0.0  1.004343  1.004343   0.017375  \n",
       "33565   2.408164  1525.850                 0.0  1.004343  1.004343   0.029559  \n",
       "33566   2.207483  1426.650                 0.0  1.004343  1.004343   0.012047  "
      ]
     },
     "execution_count": 10,
     "metadata": {},
     "output_type": "execute_result"
    }
   ],
   "source": [
    "# Drop\n",
    "spxcall[spxcall['implied_volatility']==0].head()"
   ]
  },
  {
   "cell_type": "code",
   "execution_count": 11,
   "metadata": {},
   "outputs": [],
   "source": [
    "spxcall = spxcall[spxcall['implied_volatility']!=0].reset_index().drop(['index'],axis = 1)\n",
    "\n",
    "# remove IV = 0, doesn't make sense"
   ]
  },
  {
   "cell_type": "code",
   "execution_count": 12,
   "metadata": {},
   "outputs": [
    {
     "data": {
      "text/html": [
       "<div>\n",
       "<style scoped>\n",
       "    .dataframe tbody tr th:only-of-type {\n",
       "        vertical-align: middle;\n",
       "    }\n",
       "\n",
       "    .dataframe tbody tr th {\n",
       "        vertical-align: top;\n",
       "    }\n",
       "\n",
       "    .dataframe thead th {\n",
       "        text-align: right;\n",
       "    }\n",
       "</style>\n",
       "<table border=\"1\" class=\"dataframe\">\n",
       "  <thead>\n",
       "    <tr style=\"text-align: right;\">\n",
       "      <th></th>\n",
       "      <th>data_date</th>\n",
       "      <th>underlying_price</th>\n",
       "      <th>strike_price</th>\n",
       "      <th>expiration</th>\n",
       "      <th>moneyness</th>\n",
       "      <th>price</th>\n",
       "      <th>implied_volatility</th>\n",
       "      <th>log ret</th>\n",
       "      <th>Vol</th>\n",
       "      <th>Risk Free</th>\n",
       "    </tr>\n",
       "  </thead>\n",
       "  <tbody>\n",
       "    <tr>\n",
       "      <th>17494</th>\n",
       "      <td>2018-01-19 00:00:00</td>\n",
       "      <td>2810.29</td>\n",
       "      <td>100.0</td>\n",
       "      <td>0</td>\n",
       "      <td>28.102900</td>\n",
       "      <td>2694.45</td>\n",
       "      <td>0.3</td>\n",
       "      <td>0.069178</td>\n",
       "      <td>0.069178</td>\n",
       "      <td>0.022547</td>\n",
       "    </tr>\n",
       "    <tr>\n",
       "      <th>17495</th>\n",
       "      <td>2018-01-19 00:00:00</td>\n",
       "      <td>2810.29</td>\n",
       "      <td>200.0</td>\n",
       "      <td>0</td>\n",
       "      <td>14.051450</td>\n",
       "      <td>2594.45</td>\n",
       "      <td>0.3</td>\n",
       "      <td>0.069178</td>\n",
       "      <td>0.069178</td>\n",
       "      <td>0.025941</td>\n",
       "    </tr>\n",
       "    <tr>\n",
       "      <th>17496</th>\n",
       "      <td>2018-01-19 00:00:00</td>\n",
       "      <td>2810.29</td>\n",
       "      <td>300.0</td>\n",
       "      <td>0</td>\n",
       "      <td>9.367633</td>\n",
       "      <td>2494.45</td>\n",
       "      <td>0.3</td>\n",
       "      <td>0.069178</td>\n",
       "      <td>0.069178</td>\n",
       "      <td>0.019323</td>\n",
       "    </tr>\n",
       "    <tr>\n",
       "      <th>17497</th>\n",
       "      <td>2018-01-19 00:00:00</td>\n",
       "      <td>2810.29</td>\n",
       "      <td>400.0</td>\n",
       "      <td>0</td>\n",
       "      <td>7.025725</td>\n",
       "      <td>2394.45</td>\n",
       "      <td>0.3</td>\n",
       "      <td>0.069178</td>\n",
       "      <td>0.069178</td>\n",
       "      <td>0.019394</td>\n",
       "    </tr>\n",
       "    <tr>\n",
       "      <th>17498</th>\n",
       "      <td>2018-01-19 00:00:00</td>\n",
       "      <td>2810.29</td>\n",
       "      <td>500.0</td>\n",
       "      <td>0</td>\n",
       "      <td>5.620580</td>\n",
       "      <td>2294.50</td>\n",
       "      <td>0.3</td>\n",
       "      <td>0.069178</td>\n",
       "      <td>0.069178</td>\n",
       "      <td>0.025221</td>\n",
       "    </tr>\n",
       "  </tbody>\n",
       "</table>\n",
       "</div>"
      ],
      "text/plain": [
       "                 data_date  underlying_price  strike_price  expiration  \\\n",
       "17494  2018-01-19 00:00:00           2810.29         100.0           0   \n",
       "17495  2018-01-19 00:00:00           2810.29         200.0           0   \n",
       "17496  2018-01-19 00:00:00           2810.29         300.0           0   \n",
       "17497  2018-01-19 00:00:00           2810.29         400.0           0   \n",
       "17498  2018-01-19 00:00:00           2810.29         500.0           0   \n",
       "\n",
       "       moneyness    price  implied_volatility   log ret       Vol  Risk Free  \n",
       "17494  28.102900  2694.45                 0.3  0.069178  0.069178   0.022547  \n",
       "17495  14.051450  2594.45                 0.3  0.069178  0.069178   0.025941  \n",
       "17496   9.367633  2494.45                 0.3  0.069178  0.069178   0.019323  \n",
       "17497   7.025725  2394.45                 0.3  0.069178  0.069178   0.019394  \n",
       "17498   5.620580  2294.50                 0.3  0.069178  0.069178   0.025221  "
      ]
     },
     "execution_count": 12,
     "metadata": {},
     "output_type": "execute_result"
    }
   ],
   "source": [
    "spxcall[spxcall['expiration']==0].head()\n",
    "\n",
    "# only expiration column has zero values"
   ]
  },
  {
   "cell_type": "code",
   "execution_count": 13,
   "metadata": {},
   "outputs": [
    {
     "name": "stderr",
     "output_type": "stream",
     "text": [
      "<ipython-input-13-76dfef22836d>:2: SettingWithCopyWarning: \n",
      "A value is trying to be set on a copy of a slice from a DataFrame\n",
      "\n",
      "See the caveats in the documentation: https://pandas.pydata.org/pandas-docs/stable/user_guide/indexing.html#returning-a-view-versus-a-copy\n",
      "  spxcall['Indicator'][spxcall['moneyness']>1.] = 1\n",
      "<ipython-input-13-76dfef22836d>:3: SettingWithCopyWarning: \n",
      "A value is trying to be set on a copy of a slice from a DataFrame\n",
      "\n",
      "See the caveats in the documentation: https://pandas.pydata.org/pandas-docs/stable/user_guide/indexing.html#returning-a-view-versus-a-copy\n",
      "  spxcall['Indicator'][spxcall['moneyness']<=1] = 0\n"
     ]
    }
   ],
   "source": [
    "spxcall['Indicator'] =0\n",
    "spxcall['Indicator'][spxcall['moneyness']>1.] = 1\n",
    "spxcall['Indicator'][spxcall['moneyness']<=1] = 0"
   ]
  },
  {
   "cell_type": "code",
   "execution_count": 14,
   "metadata": {},
   "outputs": [],
   "source": [
    "X = spxcall[['underlying_price','strike_price','expiration','Risk Free','Vol','moneyness','Indicator']].values\n",
    "y = spxcall['price'].values\n",
    "from sklearn.model_selection import train_test_split\n",
    "X_train_full, X_test, y_train_full, y_test = train_test_split(X, y, test_size=0.30,random_state =1)\n",
    "X_train, X_valid, y_train, y_valid = train_test_split(X_train_full, y_train_full,test_size=0.25,random_state =1)\n"
   ]
  },
  {
   "cell_type": "markdown",
   "metadata": {},
   "source": [
    "# MLP architecture definition"
   ]
  },
  {
   "cell_type": "code",
   "execution_count": 30,
   "metadata": {},
   "outputs": [],
   "source": [
    "from keras.models import Sequential\n",
    "from keras.layers import Dense, Dropout, Activation, LeakyReLU, BatchNormalization\n",
    "import keras\n",
    "import tensorflow as tf\n",
    "nodes = 120\n",
    "def build_model(n_hidden=3, n_neurons=500, learning_rate=0.0003,dropout = 0.2):\n",
    "    model = Sequential()\n",
    "    model.add(keras.layers.InputLayer(input_shape = (7,)))\n",
    "    model.add(BatchNormalization())\n",
    "    for layer in range(n_hidden):\n",
    "        model.add(Dense(n_neurons, activation='relu'))\n",
    "        model.add(BatchNormalization())\n",
    "        model.add(Dropout(dropout))\n",
    "    model.add(keras.layers.Dense(1))\n",
    "    \n",
    "    myoptimizer = keras.optimizers.Adam(lr = learning_rate)\n",
    "        \n",
    "    model.compile(loss='mean_squared_error', optimizer=myoptimizer)\n",
    "    return model\n",
    "keras_reg = tf.keras.wrappers.scikit_learn.KerasRegressor(build_model)"
   ]
  },
  {
   "cell_type": "code",
   "execution_count": 31,
   "metadata": {
    "scrolled": false
   },
   "outputs": [
    {
     "name": "stdout",
     "output_type": "stream",
     "text": [
      "Epoch 1/50\n",
      "320/320 [==============================] - 1s 4ms/step - loss: 555631.7500 - val_loss: 546896.3125\n",
      "Epoch 2/50\n",
      "320/320 [==============================] - 1s 3ms/step - loss: 470433.6875 - val_loss: 473899.5625\n",
      "Epoch 3/50\n",
      "320/320 [==============================] - 1s 3ms/step - loss: 374783.1562 - val_loss: 343792.7812\n",
      "Epoch 4/50\n",
      "320/320 [==============================] - 1s 3ms/step - loss: 280595.5312 - val_loss: 244461.1875\n",
      "Epoch 5/50\n",
      "320/320 [==============================] - 1s 3ms/step - loss: 199298.2656 - val_loss: 168296.3125\n",
      "Epoch 6/50\n",
      "320/320 [==============================] - 1s 4ms/step - loss: 136538.6406 - val_loss: 107955.5391\n",
      "Epoch 7/50\n",
      "320/320 [==============================] - 1s 3ms/step - loss: 92851.9688 - val_loss: 62756.1289\n",
      "Epoch 8/50\n",
      "320/320 [==============================] - 1s 3ms/step - loss: 62846.1641 - val_loss: 37877.4180\n",
      "Epoch 9/50\n",
      "320/320 [==============================] - 1s 3ms/step - loss: 40013.3711 - val_loss: 22829.8555\n",
      "Epoch 10/50\n",
      "320/320 [==============================] - 1s 3ms/step - loss: 22786.8105 - val_loss: 9955.1895\n",
      "Epoch 11/50\n",
      "320/320 [==============================] - 1s 4ms/step - loss: 11689.7480 - val_loss: 3734.4119\n",
      "Epoch 12/50\n",
      "320/320 [==============================] - 1s 3ms/step - loss: 6004.0537 - val_loss: 1356.4917\n",
      "Epoch 13/50\n",
      "320/320 [==============================] - 1s 3ms/step - loss: 3303.3320 - val_loss: 487.9701\n",
      "Epoch 14/50\n",
      "320/320 [==============================] - 1s 3ms/step - loss: 2368.2231 - val_loss: 111.0507\n",
      "Epoch 15/50\n",
      "320/320 [==============================] - 1s 3ms/step - loss: 2249.7739 - val_loss: 52.9372\n",
      "Epoch 16/50\n",
      "320/320 [==============================] - 1s 3ms/step - loss: 2015.4174 - val_loss: 109.9391\n",
      "Epoch 17/50\n",
      "320/320 [==============================] - 1s 3ms/step - loss: 1931.6069 - val_loss: 91.2228\n",
      "Epoch 18/50\n",
      "320/320 [==============================] - 1s 3ms/step - loss: 2031.5338 - val_loss: 232.3455\n",
      "Epoch 19/50\n",
      "320/320 [==============================] - 1s 3ms/step - loss: 1954.3699 - val_loss: 181.7513\n",
      "Epoch 20/50\n",
      "320/320 [==============================] - 1s 3ms/step - loss: 1856.0640 - val_loss: 165.2095\n",
      "Epoch 21/50\n",
      "320/320 [==============================] - 1s 3ms/step - loss: 1876.1580 - val_loss: 337.1114\n",
      "Epoch 22/50\n",
      "320/320 [==============================] - 1s 3ms/step - loss: 1916.1362 - val_loss: 201.5014\n",
      "Epoch 23/50\n",
      "320/320 [==============================] - 1s 3ms/step - loss: 1810.0958 - val_loss: 145.3520\n",
      "Epoch 24/50\n",
      "320/320 [==============================] - 1s 3ms/step - loss: 1866.9362 - val_loss: 83.2973\n",
      "Epoch 25/50\n",
      "320/320 [==============================] - 1s 3ms/step - loss: 1779.3569 - val_loss: 140.1793\n",
      "Epoch 26/50\n",
      "320/320 [==============================] - 1s 3ms/step - loss: 1844.5111 - val_loss: 290.6664\n",
      "Epoch 27/50\n",
      "320/320 [==============================] - 1s 3ms/step - loss: 1751.7924 - val_loss: 466.3511\n",
      "Epoch 28/50\n",
      "320/320 [==============================] - 1s 3ms/step - loss: 1834.1332 - val_loss: 110.3251\n",
      "Epoch 29/50\n",
      "320/320 [==============================] - 1s 3ms/step - loss: 1715.8630 - val_loss: 421.0484\n",
      "Epoch 30/50\n",
      "320/320 [==============================] - 1s 3ms/step - loss: 1826.0161 - val_loss: 275.5294\n",
      "Epoch 31/50\n",
      "320/320 [==============================] - 1s 3ms/step - loss: 1835.7750 - val_loss: 228.4943\n",
      "Epoch 32/50\n",
      "320/320 [==============================] - 1s 3ms/step - loss: 1787.0197 - val_loss: 259.8747\n",
      "Epoch 33/50\n",
      "320/320 [==============================] - 1s 3ms/step - loss: 1732.9182 - val_loss: 238.4762\n",
      "Epoch 34/50\n",
      "320/320 [==============================] - 1s 3ms/step - loss: 1730.3861 - val_loss: 380.1725\n",
      "Epoch 35/50\n",
      "320/320 [==============================] - 1s 3ms/step - loss: 1709.7217 - val_loss: 500.0887\n",
      "Epoch 36/50\n",
      "320/320 [==============================] - 1s 3ms/step - loss: 1695.5614 - val_loss: 180.1218\n",
      "Epoch 37/50\n",
      "320/320 [==============================] - 1s 3ms/step - loss: 1746.9152 - val_loss: 322.8014\n",
      "Epoch 38/50\n",
      "320/320 [==============================] - 1s 3ms/step - loss: 1629.4325 - val_loss: 305.7350\n",
      "Epoch 39/50\n",
      "320/320 [==============================] - 1s 3ms/step - loss: 1583.7026 - val_loss: 319.1113\n",
      "Epoch 40/50\n",
      "320/320 [==============================] - 1s 3ms/step - loss: 1633.5962 - val_loss: 396.6268\n",
      "Epoch 41/50\n",
      "320/320 [==============================] - 1s 3ms/step - loss: 1508.0735 - val_loss: 662.0206\n",
      "Epoch 42/50\n",
      "320/320 [==============================] - 1s 3ms/step - loss: 1555.4631 - val_loss: 197.3963\n",
      "Epoch 43/50\n",
      "320/320 [==============================] - 1s 3ms/step - loss: 1569.6885 - val_loss: 439.7622\n",
      "Epoch 44/50\n",
      "320/320 [==============================] - 1s 3ms/step - loss: 1590.7095 - val_loss: 243.5587\n",
      "Epoch 45/50\n",
      "320/320 [==============================] - 1s 4ms/step - loss: 1581.0292 - val_loss: 378.1135\n",
      "Epoch 46/50\n",
      "320/320 [==============================] - 1s 4ms/step - loss: 1615.5569 - val_loss: 347.3418\n",
      "Epoch 47/50\n",
      "320/320 [==============================] - 1s 4ms/step - loss: 1453.1141 - val_loss: 362.5578\n",
      "Epoch 48/50\n",
      "320/320 [==============================] - 1s 3ms/step - loss: 1556.0349 - val_loss: 199.1825\n",
      "Epoch 49/50\n",
      "320/320 [==============================] - 1s 4ms/step - loss: 1503.0808 - val_loss: 414.3825\n",
      "Epoch 50/50\n",
      "320/320 [==============================] - 1s 4ms/step - loss: 1472.5505 - val_loss: 445.1822\n"
     ]
    }
   ],
   "source": [
    "\n",
    "keras_reg = tf.keras.wrappers.scikit_learn.KerasRegressor(build_model)\n",
    "history = keras_reg.fit(X_train, y_train, batch_size = 500,epochs=50,validation_data=(X_valid, y_valid),verbose = 1)\n"
   ]
  },
  {
   "cell_type": "markdown",
   "metadata": {},
   "source": [
    "# Epoch vs error convergence"
   ]
  },
  {
   "cell_type": "code",
   "execution_count": 32,
   "metadata": {
    "scrolled": true
   },
   "outputs": [
    {
     "data": {
      "image/png": "[encoded data removed]",
      "text/plain": [
       "<Figure size 576x360 with 1 Axes>"
      ]
     },
     "metadata": {
      "needs_background": "light"
     },
     "output_type": "display_data"
    }
   ],
   "source": [
    "pd.DataFrame(history.history).plot(figsize = (8,5))\n",
    "import matplotlib.pyplot as plt\n",
    "plt.grid(True)\n",
    "plt.show()"
   ]
  },
  {
   "cell_type": "markdown",
   "metadata": {},
   "source": [
    "# R squared score and MSE on test dataset"
   ]
  },
  {
   "cell_type": "code",
   "execution_count": 33,
   "metadata": {
    "scrolled": false
   },
   "outputs": [
    {
     "name": "stdout",
     "output_type": "stream",
     "text": [
      "0.998523026357179 445.5899175909926\n"
     ]
    }
   ],
   "source": [
    "\n",
    "predict = keras_reg.predict(X_test)\n",
    "from sklearn.metrics import mean_squared_error\n",
    "from sklearn.metrics import r2_score\n",
    "print(r2_score(y_test, predict),mean_squared_error(y_test, predict))\n"
   ]
  },
  {
   "cell_type": "code",
   "execution_count": 34,
   "metadata": {},
   "outputs": [
    {
     "data": {
      "image/png": "[encoded data removed]",
      "text/plain": [
       "<Figure size 432x288 with 1 Axes>"
      ]
     },
     "metadata": {
      "needs_background": "light"
     },
     "output_type": "display_data"
    }
   ],
   "source": [
    "plt.scatter(y_test, predict, s= 0.1)\n",
    "plt.ylabel(\"Predicted Price\")\n",
    "plt.xlabel(\"Actual Price\")\n",
    "plt.title(\"Actual vs Predicted Price\")\n",
    "plt.show()"
   ]
  },
  {
   "cell_type": "markdown",
   "metadata": {},
   "source": [
    "More in the money options"
   ]
  },
  {
   "cell_type": "code",
   "execution_count": 35,
   "metadata": {},
   "outputs": [
    {
     "name": "stdout",
     "output_type": "stream",
     "text": [
      "67090 24183\n"
     ]
    }
   ],
   "source": [
    "print(sum(X_test[:,5]>1),sum(X_test[:,5]<=1))\n",
    "\n"
   ]
  },
  {
   "cell_type": "code",
   "execution_count": 36,
   "metadata": {
    "scrolled": true
   },
   "outputs": [
    {
     "data": {
      "image/png": "[encoded data removed]",
      "text/plain": [
       "<Figure size 432x288 with 1 Axes>"
      ]
     },
     "metadata": {
      "needs_background": "light"
     },
     "output_type": "display_data"
    }
   ],
   "source": [
    "\n",
    "X_itm= X_test[X_test[:,5]>1]\n",
    "X_otm =  X_test[X_test[:,5]<=1]\n",
    "Y_itm = y_test[X_test[:,5]>1]\n",
    "Y_otm = y_test[X_test[:,5]<=1]\n",
    "plt.scatter(Y_itm,keras_reg.predict(X_itm), s=2)\n",
    "plt.scatter(Y_otm, keras_reg.predict(X_otm), c='r', s=1)\n",
    "plt.ylabel(\"Predicted Price\")\n",
    "plt.xlabel(\"Actual Price\")\n",
    "plt.title(\"Actual vs Predicted Price\")\n",
    "plt.legend(['ITM', 'OTM'])\n",
    "plt.show()"
   ]
  },
  {
   "cell_type": "code",
   "execution_count": 37,
   "metadata": {},
   "outputs": [
    {
     "data": {
      "image/png": "[encoded data removed]",
      "text/plain": [
       "<Figure size 432x288 with 1 Axes>"
      ]
     },
     "metadata": {
      "needs_background": "light"
     },
     "output_type": "display_data"
    }
   ],
   "source": [
    "preds_test= keras_reg.predict(X_itm)\n",
    "pricing_error_test = preds_test - Y_itm\n",
    "plt.hist(pricing_error_test, bins= 80, edgecolor='black')\n",
    "plt.title(\"ITM pricing Error\")\n",
    "plt.ylabel(\"Density\")\n",
    "plt.xlim((-60, 60))\n",
    "plt.show()"
   ]
  },
  {
   "cell_type": "code",
   "execution_count": 38,
   "metadata": {},
   "outputs": [
    {
     "data": {
      "image/png": "[encoded data removed]",
      "text/plain": [
       "<Figure size 432x288 with 1 Axes>"
      ]
     },
     "metadata": {
      "needs_background": "light"
     },
     "output_type": "display_data"
    }
   ],
   "source": [
    "preds_test= keras_reg.predict(X_otm)\n",
    "pricing_error_test = preds_test - Y_otm\n",
    "plt.hist(pricing_error_test, bins= 80, edgecolor='black')\n",
    "plt.title(\"OTM pricing Error\")\n",
    "plt.ylabel(\"Density\")\n",
    "plt.xlim((-60, 60))\n",
    "plt.show()"
   ]
  },
  {
   "cell_type": "code",
   "execution_count": 39,
   "metadata": {
    "scrolled": false
   },
   "outputs": [
    {
     "data": {
      "image/png": "[encoded data removed]",
      "text/plain": [
       "<Figure size 432x288 with 1 Axes>"
      ]
     },
     "metadata": {
      "needs_background": "light"
     },
     "output_type": "display_data"
    }
   ],
   "source": [
    "preds_test= keras_reg.predict(X_test)\n",
    "pricing_error_test = preds_test - y_test\n",
    "plt.hist(pricing_error_test, bins= 80, edgecolor='black')\n",
    "plt.title(\"Out of-sample(Test data) pricing Error\")\n",
    "plt.ylabel(\"Density\")\n",
    "plt.xlim((-60, 60))\n",
    "plt.show()"
   ]
  },
  {
   "cell_type": "code",
   "execution_count": 40,
   "metadata": {},
   "outputs": [
    {
     "data": {
      "text/plain": [
       "4.29193115234375"
      ]
     },
     "execution_count": 40,
     "metadata": {},
     "output_type": "execute_result"
    }
   ],
   "source": [
    "np.median(pricing_error_test)"
   ]
  },
  {
   "cell_type": "code",
   "execution_count": 40,
   "metadata": {},
   "outputs": [
    {
     "data": {
      "image/png": "[encoded data removed]",
      "text/plain": [
       "<Figure size 432x288 with 1 Axes>"
      ]
     },
     "metadata": {
      "needs_background": "light"
     },
     "output_type": "display_data"
    }
   ],
   "source": [
    "preds_train= keras_reg.predict(X_train)\n",
    "pricing_error_train = preds_train - y_train\n",
    "plt.hist(pricing_error_train, bins= 80, edgecolor='black')\n",
    "plt.title(\"In-sample(Train data) pricing Error\")\n",
    "plt.ylabel(\"Density\")\n",
    "plt.xlim((-60, 60))\n",
    "plt.show()"
   ]
  },
  {
   "cell_type": "markdown",
   "metadata": {},
   "source": [
    "### Unlike the simulated data, we have two very similar distributions.\n",
    "### The model is overpricing in both cases.\n",
    "### Improvements??"
   ]
  },
  {
   "cell_type": "markdown",
   "metadata": {},
   "source": [
    "### Let's do a SLR error rate vs Pred Price increase to see how much predicted price change increases error. on test data"
   ]
  },
  {
   "cell_type": "code",
   "execution_count": 22,
   "metadata": {
    "scrolled": true
   },
   "outputs": [
    {
     "data": {
      "text/html": [
       "<table class=\"simpletable\">\n",
       "<caption>OLS Regression Results</caption>\n",
       "<tr>\n",
       "  <th>Dep. Variable:</th>            <td>y</td>        <th>  R-squared:         </th>  <td>   0.020</td>  \n",
       "</tr>\n",
       "<tr>\n",
       "  <th>Model:</th>                   <td>OLS</td>       <th>  Adj. R-squared:    </th>  <td>   0.020</td>  \n",
       "</tr>\n",
       "<tr>\n",
       "  <th>Method:</th>             <td>Least Squares</td>  <th>  F-statistic:       </th>  <td>   1901.</td>  \n",
       "</tr>\n",
       "<tr>\n",
       "  <th>Date:</th>             <td>Thu, 03 Dec 2020</td> <th>  Prob (F-statistic):</th>   <td>  0.00</td>   \n",
       "</tr>\n",
       "<tr>\n",
       "  <th>Time:</th>                 <td>08:45:58</td>     <th>  Log-Likelihood:    </th> <td>-3.7217e+05</td>\n",
       "</tr>\n",
       "<tr>\n",
       "  <th>No. Observations:</th>      <td> 91273</td>      <th>  AIC:               </th>  <td>7.443e+05</td> \n",
       "</tr>\n",
       "<tr>\n",
       "  <th>Df Residuals:</th>          <td> 91271</td>      <th>  BIC:               </th>  <td>7.444e+05</td> \n",
       "</tr>\n",
       "<tr>\n",
       "  <th>Df Model:</th>              <td>     1</td>      <th>                     </th>      <td> </td>     \n",
       "</tr>\n",
       "<tr>\n",
       "  <th>Covariance Type:</th>      <td>nonrobust</td>    <th>                     </th>      <td> </td>     \n",
       "</tr>\n",
       "</table>\n",
       "<table class=\"simpletable\">\n",
       "<tr>\n",
       "    <td></td>       <th>coef</th>     <th>std err</th>      <th>t</th>      <th>P>|t|</th>  <th>[0.025</th>    <th>0.975]</th>  \n",
       "</tr>\n",
       "<tr>\n",
       "  <th>const</th> <td>   21.0446</td> <td>    0.069</td> <td>  306.259</td> <td> 0.000</td> <td>   20.910</td> <td>   21.179</td>\n",
       "</tr>\n",
       "<tr>\n",
       "  <th>x1</th>    <td>   -0.0038</td> <td> 8.78e-05</td> <td>  -43.601</td> <td> 0.000</td> <td>   -0.004</td> <td>   -0.004</td>\n",
       "</tr>\n",
       "</table>\n",
       "<table class=\"simpletable\">\n",
       "<tr>\n",
       "  <th>Omnibus:</th>       <td>14961.884</td> <th>  Durbin-Watson:     </th> <td>   2.001</td> \n",
       "</tr>\n",
       "<tr>\n",
       "  <th>Prob(Omnibus):</th>  <td> 0.000</td>   <th>  Jarque-Bera (JB):  </th> <td>38963.900</td>\n",
       "</tr>\n",
       "<tr>\n",
       "  <th>Skew:</th>           <td> 0.907</td>   <th>  Prob(JB):          </th> <td>    0.00</td> \n",
       "</tr>\n",
       "<tr>\n",
       "  <th>Kurtosis:</th>       <td> 5.637</td>   <th>  Cond. No.          </th> <td>1.14e+03</td> \n",
       "</tr>\n",
       "</table><br/><br/>Notes:<br/>[1] Standard Errors assume that the covariance matrix of the errors is correctly specified.<br/>[2] The condition number is large, 1.14e+03. This might indicate that there are<br/>strong multicollinearity or other numerical problems."
      ],
      "text/plain": [
       "<class 'statsmodels.iolib.summary.Summary'>\n",
       "\"\"\"\n",
       "                            OLS Regression Results                            \n",
       "==============================================================================\n",
       "Dep. Variable:                      y   R-squared:                       0.020\n",
       "Model:                            OLS   Adj. R-squared:                  0.020\n",
       "Method:                 Least Squares   F-statistic:                     1901.\n",
       "Date:                Thu, 03 Dec 2020   Prob (F-statistic):               0.00\n",
       "Time:                        08:45:58   Log-Likelihood:            -3.7217e+05\n",
       "No. Observations:               91273   AIC:                         7.443e+05\n",
       "Df Residuals:                   91271   BIC:                         7.444e+05\n",
       "Df Model:                           1                                         \n",
       "Covariance Type:            nonrobust                                         \n",
       "==============================================================================\n",
       "                 coef    std err          t      P>|t|      [0.025      0.975]\n",
       "------------------------------------------------------------------------------\n",
       "const         21.0446      0.069    306.259      0.000      20.910      21.179\n",
       "x1            -0.0038   8.78e-05    -43.601      0.000      -0.004      -0.004\n",
       "==============================================================================\n",
       "Omnibus:                    14961.884   Durbin-Watson:                   2.001\n",
       "Prob(Omnibus):                  0.000   Jarque-Bera (JB):            38963.900\n",
       "Skew:                           0.907   Prob(JB):                         0.00\n",
       "Kurtosis:                       5.637   Cond. No.                     1.14e+03\n",
       "==============================================================================\n",
       "\n",
       "Notes:\n",
       "[1] Standard Errors assume that the covariance matrix of the errors is correctly specified.\n",
       "[2] The condition number is large, 1.14e+03. This might indicate that there are\n",
       "strong multicollinearity or other numerical problems.\n",
       "\"\"\""
      ]
     },
     "execution_count": 22,
     "metadata": {},
     "output_type": "execute_result"
    }
   ],
   "source": [
    "import statsmodels.api as sm\n",
    "# L1 error\n",
    "X = preds_test\n",
    "X = sm.add_constant(X)\n",
    "y = abs(pricing_error_test)\n",
    "reg = sm.OLS(y,X)\n",
    "results = reg.fit()\n",
    "results.summary()"
   ]
  },
  {
   "cell_type": "markdown",
   "metadata": {},
   "source": [
    "### Analyze Implied volatility of Predicted price and actual Implied Volatility(i.e; IV of true price)"
   ]
  },
  {
   "cell_type": "markdown",
   "metadata": {},
   "source": [
    "# Let's take top 3 most occuring price"
   ]
  },
  {
   "cell_type": "code",
   "execution_count": 93,
   "metadata": {},
   "outputs": [
    {
     "name": "stdout",
     "output_type": "stream",
     "text": [
      "2896.71    3414\n",
      "2853.58    1828\n",
      "2833.28    1828\n",
      "2840.69    1828\n",
      "2839.98    1828\n",
      "           ... \n",
      "2837.60    1509\n",
      "2839.16    1499\n",
      "2832.97    1496\n",
      "2695.16     532\n",
      "2648.98     522\n",
      "Name: underlying_price, Length: 178, dtype: int64\n"
     ]
    }
   ],
   "source": [
    "\n",
    "print(spxcall['underlying_price'].value_counts())"
   ]
  },
  {
   "cell_type": "code",
   "execution_count": 23,
   "metadata": {},
   "outputs": [],
   "source": [
    "p1 =2896.71\n",
    "p2 = 2840.69\n",
    "p3 = 2832.97\n"
   ]
  },
  {
   "cell_type": "code",
   "execution_count": 24,
   "metadata": {},
   "outputs": [
    {
     "data": {
      "text/plain": [
       "array(['2018-08-27 00:00:00', '2018-09-04 00:00:00'], dtype=object)"
      ]
     },
     "execution_count": 24,
     "metadata": {},
     "output_type": "execute_result"
    }
   ],
   "source": [
    "spxcall[(spxcall['underlying_price'] == p1)]['data_date'].unique()"
   ]
  },
  {
   "cell_type": "code",
   "execution_count": 25,
   "metadata": {},
   "outputs": [
    {
     "ename": "UnboundLocalError",
     "evalue": "local variable 'batch_outputs' referenced before assignment",
     "output_type": "error",
     "traceback": [
      "\u001b[1;31m---------------------------------------------------------------------------\u001b[0m",
      "\u001b[1;31mUnboundLocalError\u001b[0m                         Traceback (most recent call last)",
      "\u001b[1;32m<ipython-input-25-0a726b6909fc>\u001b[0m in \u001b[0;36m<module>\u001b[1;34m\u001b[0m\n\u001b[0;32m      1\u001b[0m \u001b[1;31m#fix an underlying price for a date\u001b[0m\u001b[1;33m\u001b[0m\u001b[1;33m\u001b[0m\u001b[1;33m\u001b[0m\u001b[0m\n\u001b[0;32m      2\u001b[0m \u001b[0mdf1\u001b[0m \u001b[1;33m=\u001b[0m \u001b[0mspxcall\u001b[0m\u001b[1;33m[\u001b[0m\u001b[1;33m(\u001b[0m\u001b[0mspxcall\u001b[0m\u001b[1;33m[\u001b[0m\u001b[1;34m'underlying_price'\u001b[0m\u001b[1;33m]\u001b[0m \u001b[1;33m==\u001b[0m \u001b[1;36m2896.71\u001b[0m\u001b[1;33m)\u001b[0m \u001b[1;33m&\u001b[0m \u001b[1;33m(\u001b[0m\u001b[0mspxcall\u001b[0m\u001b[1;33m[\u001b[0m\u001b[1;34m'data_date'\u001b[0m\u001b[1;33m]\u001b[0m\u001b[1;33m==\u001b[0m\u001b[1;34m'2018-09-07 00:00:00'\u001b[0m\u001b[1;33m)\u001b[0m\u001b[1;33m]\u001b[0m\u001b[1;33m\u001b[0m\u001b[1;33m\u001b[0m\u001b[0m\n\u001b[1;32m----> 3\u001b[1;33m \u001b[0mdf1\u001b[0m\u001b[1;33m[\u001b[0m\u001b[1;34m'pred_price'\u001b[0m\u001b[1;33m]\u001b[0m \u001b[1;33m=\u001b[0m  \u001b[0mkeras_reg\u001b[0m\u001b[1;33m.\u001b[0m\u001b[0mpredict\u001b[0m\u001b[1;33m(\u001b[0m\u001b[0mdf1\u001b[0m\u001b[1;33m[\u001b[0m\u001b[1;33m[\u001b[0m\u001b[1;34m'underlying_price'\u001b[0m\u001b[1;33m,\u001b[0m\u001b[1;34m'strike_price'\u001b[0m\u001b[1;33m,\u001b[0m\u001b[1;34m'expiration'\u001b[0m\u001b[1;33m,\u001b[0m\u001b[1;34m'Risk Free'\u001b[0m\u001b[1;33m,\u001b[0m\u001b[1;34m'Vol'\u001b[0m\u001b[1;33m,\u001b[0m\u001b[1;34m'moneyness'\u001b[0m\u001b[1;33m]\u001b[0m\u001b[1;33m]\u001b[0m\u001b[1;33m.\u001b[0m\u001b[0mvalues\u001b[0m\u001b[1;33m)\u001b[0m\u001b[1;33m\u001b[0m\u001b[1;33m\u001b[0m\u001b[0m\n\u001b[0m\u001b[0;32m      4\u001b[0m \u001b[0mdf1\u001b[0m \u001b[1;33m=\u001b[0m \u001b[0mdf1\u001b[0m\u001b[1;33m.\u001b[0m\u001b[0mreset_index\u001b[0m\u001b[1;33m(\u001b[0m\u001b[1;33m)\u001b[0m\u001b[1;33m.\u001b[0m\u001b[0mdrop\u001b[0m\u001b[1;33m(\u001b[0m\u001b[1;33m[\u001b[0m\u001b[1;34m'index'\u001b[0m\u001b[1;33m]\u001b[0m\u001b[1;33m,\u001b[0m\u001b[0maxis\u001b[0m \u001b[1;33m=\u001b[0m\u001b[1;36m1\u001b[0m\u001b[1;33m)\u001b[0m\u001b[1;33m\u001b[0m\u001b[1;33m\u001b[0m\u001b[0m\n\u001b[0;32m      5\u001b[0m \u001b[0mdf1\u001b[0m\u001b[1;33m\u001b[0m\u001b[1;33m\u001b[0m\u001b[0m\n",
      "\u001b[1;32m~\\anaconda3\\envs\\tf\\lib\\site-packages\\tensorflow\\python\\keras\\wrappers\\scikit_learn.py\u001b[0m in \u001b[0;36mpredict\u001b[1;34m(self, x, **kwargs)\u001b[0m\n\u001b[0;32m    331\u001b[0m     \"\"\"\n\u001b[0;32m    332\u001b[0m     \u001b[0mkwargs\u001b[0m \u001b[1;33m=\u001b[0m \u001b[0mself\u001b[0m\u001b[1;33m.\u001b[0m\u001b[0mfilter_sk_params\u001b[0m\u001b[1;33m(\u001b[0m\u001b[0mSequential\u001b[0m\u001b[1;33m.\u001b[0m\u001b[0mpredict\u001b[0m\u001b[1;33m,\u001b[0m \u001b[0mkwargs\u001b[0m\u001b[1;33m)\u001b[0m\u001b[1;33m\u001b[0m\u001b[1;33m\u001b[0m\u001b[0m\n\u001b[1;32m--> 333\u001b[1;33m     \u001b[1;32mreturn\u001b[0m \u001b[0mnp\u001b[0m\u001b[1;33m.\u001b[0m\u001b[0msqueeze\u001b[0m\u001b[1;33m(\u001b[0m\u001b[0mself\u001b[0m\u001b[1;33m.\u001b[0m\u001b[0mmodel\u001b[0m\u001b[1;33m.\u001b[0m\u001b[0mpredict\u001b[0m\u001b[1;33m(\u001b[0m\u001b[0mx\u001b[0m\u001b[1;33m,\u001b[0m \u001b[1;33m**\u001b[0m\u001b[0mkwargs\u001b[0m\u001b[1;33m)\u001b[0m\u001b[1;33m)\u001b[0m\u001b[1;33m\u001b[0m\u001b[1;33m\u001b[0m\u001b[0m\n\u001b[0m\u001b[0;32m    334\u001b[0m \u001b[1;33m\u001b[0m\u001b[0m\n\u001b[0;32m    335\u001b[0m   \u001b[1;32mdef\u001b[0m \u001b[0mscore\u001b[0m\u001b[1;33m(\u001b[0m\u001b[0mself\u001b[0m\u001b[1;33m,\u001b[0m \u001b[0mx\u001b[0m\u001b[1;33m,\u001b[0m \u001b[0my\u001b[0m\u001b[1;33m,\u001b[0m \u001b[1;33m**\u001b[0m\u001b[0mkwargs\u001b[0m\u001b[1;33m)\u001b[0m\u001b[1;33m:\u001b[0m\u001b[1;33m\u001b[0m\u001b[1;33m\u001b[0m\u001b[0m\n",
      "\u001b[1;32m~\\anaconda3\\envs\\tf\\lib\\site-packages\\tensorflow\\python\\keras\\engine\\training.py\u001b[0m in \u001b[0;36m_method_wrapper\u001b[1;34m(self, *args, **kwargs)\u001b[0m\n\u001b[0;32m    128\u001b[0m       raise ValueError('{} is not supported in multi-worker mode.'.format(\n\u001b[0;32m    129\u001b[0m           method.__name__))\n\u001b[1;32m--> 130\u001b[1;33m     \u001b[1;32mreturn\u001b[0m \u001b[0mmethod\u001b[0m\u001b[1;33m(\u001b[0m\u001b[0mself\u001b[0m\u001b[1;33m,\u001b[0m \u001b[1;33m*\u001b[0m\u001b[0margs\u001b[0m\u001b[1;33m,\u001b[0m \u001b[1;33m**\u001b[0m\u001b[0mkwargs\u001b[0m\u001b[1;33m)\u001b[0m\u001b[1;33m\u001b[0m\u001b[1;33m\u001b[0m\u001b[0m\n\u001b[0m\u001b[0;32m    131\u001b[0m \u001b[1;33m\u001b[0m\u001b[0m\n\u001b[0;32m    132\u001b[0m   return tf_decorator.make_decorator(\n",
      "\u001b[1;32m~\\anaconda3\\envs\\tf\\lib\\site-packages\\tensorflow\\python\\keras\\engine\\training.py\u001b[0m in \u001b[0;36mpredict\u001b[1;34m(self, x, batch_size, verbose, steps, callbacks, max_queue_size, workers, use_multiprocessing)\u001b[0m\n\u001b[0;32m   1612\u001b[0m             \u001b[0mcallbacks\u001b[0m\u001b[1;33m.\u001b[0m\u001b[0mon_predict_batch_end\u001b[0m\u001b[1;33m(\u001b[0m\u001b[0mend_step\u001b[0m\u001b[1;33m,\u001b[0m \u001b[1;33m{\u001b[0m\u001b[1;34m'outputs'\u001b[0m\u001b[1;33m:\u001b[0m \u001b[0mbatch_outputs\u001b[0m\u001b[1;33m}\u001b[0m\u001b[1;33m)\u001b[0m\u001b[1;33m\u001b[0m\u001b[1;33m\u001b[0m\u001b[0m\n\u001b[0;32m   1613\u001b[0m       \u001b[0mcallbacks\u001b[0m\u001b[1;33m.\u001b[0m\u001b[0mon_predict_end\u001b[0m\u001b[1;33m(\u001b[0m\u001b[1;33m)\u001b[0m\u001b[1;33m\u001b[0m\u001b[1;33m\u001b[0m\u001b[0m\n\u001b[1;32m-> 1614\u001b[1;33m     \u001b[0mall_outputs\u001b[0m \u001b[1;33m=\u001b[0m \u001b[0mnest\u001b[0m\u001b[1;33m.\u001b[0m\u001b[0mmap_structure_up_to\u001b[0m\u001b[1;33m(\u001b[0m\u001b[0mbatch_outputs\u001b[0m\u001b[1;33m,\u001b[0m \u001b[0mconcat\u001b[0m\u001b[1;33m,\u001b[0m \u001b[0moutputs\u001b[0m\u001b[1;33m)\u001b[0m\u001b[1;33m\u001b[0m\u001b[1;33m\u001b[0m\u001b[0m\n\u001b[0m\u001b[0;32m   1615\u001b[0m     \u001b[1;32mreturn\u001b[0m \u001b[0mtf_utils\u001b[0m\u001b[1;33m.\u001b[0m\u001b[0mto_numpy_or_python_type\u001b[0m\u001b[1;33m(\u001b[0m\u001b[0mall_outputs\u001b[0m\u001b[1;33m)\u001b[0m\u001b[1;33m\u001b[0m\u001b[1;33m\u001b[0m\u001b[0m\n\u001b[0;32m   1616\u001b[0m \u001b[1;33m\u001b[0m\u001b[0m\n",
      "\u001b[1;31mUnboundLocalError\u001b[0m: local variable 'batch_outputs' referenced before assignment"
     ]
    }
   ],
   "source": [
    "#fix an underlying price for a date\n",
    "df1 = spxcall[(spxcall['underlying_price'] == 2896.71) & (spxcall['data_date']=='2018-09-07 00:00:00')]\n",
    "df1['pred_price'] =  keras_reg.predict(df1[['underlying_price','strike_price','expiration','Risk Free','Vol','moneyness']].values)\n",
    "df1 = df1.reset_index().drop(['index'],axis =1)\n",
    "df1"
   ]
  },
  {
   "cell_type": "code",
   "execution_count": null,
   "metadata": {},
   "outputs": [],
   "source": [
    "\n",
    "prediv = np.zeros(1748)\n",
    "for i in range(0,1748):\n",
    "    prediv[i] = newton_vol_call(df1['underlying_price'][i], df1['strike_price'][i],df1['expiration'][i],\n",
    "                                       df1['pred_price'][i], df1['Risk Free'][i], df1['implied_volatility'][i])\n",
    "    "
   ]
  },
  {
   "cell_type": "code",
   "execution_count": 125,
   "metadata": {},
   "outputs": [
    {
     "data": {
      "text/html": [
       "<div>\n",
       "<style scoped>\n",
       "    .dataframe tbody tr th:only-of-type {\n",
       "        vertical-align: middle;\n",
       "    }\n",
       "\n",
       "    .dataframe tbody tr th {\n",
       "        vertical-align: top;\n",
       "    }\n",
       "\n",
       "    .dataframe thead th {\n",
       "        text-align: right;\n",
       "    }\n",
       "</style>\n",
       "<table border=\"1\" class=\"dataframe\">\n",
       "  <thead>\n",
       "    <tr style=\"text-align: right;\">\n",
       "      <th></th>\n",
       "      <th>data_date</th>\n",
       "      <th>underlying_price</th>\n",
       "      <th>strike_price</th>\n",
       "      <th>expiration</th>\n",
       "      <th>moneyness</th>\n",
       "      <th>price</th>\n",
       "      <th>implied_volatility</th>\n",
       "      <th>log ret</th>\n",
       "      <th>Vol</th>\n",
       "      <th>Risk Free</th>\n",
       "      <th>pred_price</th>\n",
       "      <th>pred_iv</th>\n",
       "      <th>mon</th>\n",
       "      <th>iv</th>\n",
       "    </tr>\n",
       "  </thead>\n",
       "  <tbody>\n",
       "    <tr>\n",
       "      <th>0</th>\n",
       "      <td>2018-09-07 00:00:00</td>\n",
       "      <td>2896.71</td>\n",
       "      <td>2730.0</td>\n",
       "      <td>14</td>\n",
       "      <td>1.051908</td>\n",
       "      <td>146.40</td>\n",
       "      <td>0.0856</td>\n",
       "      <td>0.035174</td>\n",
       "      <td>0.035174</td>\n",
       "      <td>0.011402</td>\n",
       "      <td>191.564590</td>\n",
       "      <td>0.117673</td>\n",
       "      <td>1</td>\n",
       "      <td>0.117673</td>\n",
       "    </tr>\n",
       "    <tr>\n",
       "      <th>1</th>\n",
       "      <td>2018-09-07 00:00:00</td>\n",
       "      <td>2896.71</td>\n",
       "      <td>2735.0</td>\n",
       "      <td>14</td>\n",
       "      <td>1.049985</td>\n",
       "      <td>141.50</td>\n",
       "      <td>0.0856</td>\n",
       "      <td>0.035174</td>\n",
       "      <td>0.035174</td>\n",
       "      <td>0.018255</td>\n",
       "      <td>185.997360</td>\n",
       "      <td>0.195534</td>\n",
       "      <td>1</td>\n",
       "      <td>0.195534</td>\n",
       "    </tr>\n",
       "    <tr>\n",
       "      <th>2</th>\n",
       "      <td>2018-09-07 00:00:00</td>\n",
       "      <td>2896.71</td>\n",
       "      <td>2740.0</td>\n",
       "      <td>14</td>\n",
       "      <td>1.048069</td>\n",
       "      <td>136.70</td>\n",
       "      <td>0.0856</td>\n",
       "      <td>0.035174</td>\n",
       "      <td>0.035174</td>\n",
       "      <td>0.011123</td>\n",
       "      <td>181.851807</td>\n",
       "      <td>0.112028</td>\n",
       "      <td>1</td>\n",
       "      <td>0.112028</td>\n",
       "    </tr>\n",
       "    <tr>\n",
       "      <th>3</th>\n",
       "      <td>2018-09-07 00:00:00</td>\n",
       "      <td>2896.71</td>\n",
       "      <td>2745.0</td>\n",
       "      <td>14</td>\n",
       "      <td>1.046160</td>\n",
       "      <td>131.90</td>\n",
       "      <td>0.0856</td>\n",
       "      <td>0.035174</td>\n",
       "      <td>0.035174</td>\n",
       "      <td>0.028993</td>\n",
       "      <td>174.840912</td>\n",
       "      <td>0.332352</td>\n",
       "      <td>1</td>\n",
       "      <td>0.332352</td>\n",
       "    </tr>\n",
       "    <tr>\n",
       "      <th>4</th>\n",
       "      <td>2018-09-07 00:00:00</td>\n",
       "      <td>2896.71</td>\n",
       "      <td>2750.0</td>\n",
       "      <td>14</td>\n",
       "      <td>1.044258</td>\n",
       "      <td>127.15</td>\n",
       "      <td>0.0856</td>\n",
       "      <td>0.035174</td>\n",
       "      <td>0.035174</td>\n",
       "      <td>0.029514</td>\n",
       "      <td>169.989548</td>\n",
       "      <td>0.337478</td>\n",
       "      <td>1</td>\n",
       "      <td>0.337478</td>\n",
       "    </tr>\n",
       "  </tbody>\n",
       "</table>\n",
       "</div>"
      ],
      "text/plain": [
       "             data_date  underlying_price  strike_price  expiration  moneyness  \\\n",
       "0  2018-09-07 00:00:00           2896.71        2730.0          14   1.051908   \n",
       "1  2018-09-07 00:00:00           2896.71        2735.0          14   1.049985   \n",
       "2  2018-09-07 00:00:00           2896.71        2740.0          14   1.048069   \n",
       "3  2018-09-07 00:00:00           2896.71        2745.0          14   1.046160   \n",
       "4  2018-09-07 00:00:00           2896.71        2750.0          14   1.044258   \n",
       "\n",
       "    price  implied_volatility   log ret       Vol  Risk Free  pred_price  \\\n",
       "0  146.40              0.0856  0.035174  0.035174   0.011402  191.564590   \n",
       "1  141.50              0.0856  0.035174  0.035174   0.018255  185.997360   \n",
       "2  136.70              0.0856  0.035174  0.035174   0.011123  181.851807   \n",
       "3  131.90              0.0856  0.035174  0.035174   0.028993  174.840912   \n",
       "4  127.15              0.0856  0.035174  0.035174   0.029514  169.989548   \n",
       "\n",
       "    pred_iv  mon        iv  \n",
       "0  0.117673    1  0.117673  \n",
       "1  0.195534    1  0.195534  \n",
       "2  0.112028    1  0.112028  \n",
       "3  0.332352    1  0.332352  \n",
       "4  0.337478    1  0.337478  "
      ]
     },
     "execution_count": 125,
     "metadata": {},
     "output_type": "execute_result"
    }
   ],
   "source": [
    "df1['pred_iv'] = prediv\n",
    "df1['iv'] = truiv\n",
    "df1[\"mon\"]=0\n",
    "df1.loc[df1['moneyness']>1.01,'mon'] =1\n",
    "df1.loc[df1['moneyness']<0.99,'mon'] = -1\n",
    "df1.loc[(df1['moneyness']<1.01) &(df1['moneyness']>0.99) ,'mon'] = 0\n",
    "df1.head()"
   ]
  },
  {
   "cell_type": "code",
   "execution_count": 134,
   "metadata": {},
   "outputs": [],
   "source": [
    "%matplotlib qt\n",
    "fig = plt.figure()\n",
    "ax = fig.add_subplot(111, projection='3d')\n",
    "\n",
    "x =df1['strike_price']\n",
    "y =df1['expiration']\n",
    "z =df1['pred_iv']\n",
    "\n",
    "money = df1['mon']\n",
    "ax.scatter(x, y, z,c = money,  marker='o',alpha = 0.5)\n",
    "\n",
    "ax.set_xlabel('Strike')\n",
    "ax.set_ylabel('Expiration')\n",
    "ax.set_zlabel('Pred ImpVol')\n",
    "\n",
    "plt.show()"
   ]
  },
  {
   "cell_type": "code",
   "execution_count": 135,
   "metadata": {},
   "outputs": [],
   "source": [
    "%matplotlib qt\n",
    "fig = plt.figure()\n",
    "ax = fig.add_subplot(111, projection='3d')\n",
    "\n",
    "x =df1['strike_price']\n",
    "y =df1['expiration']\n",
    "z =df1['implied_volatility']\n",
    "\n",
    "money = df1['mon']\n",
    "ax.scatter(x, y, z,c = money,  marker='o',alpha = 0.5)\n",
    "\n",
    "ax.set_xlabel('Strike')\n",
    "ax.set_ylabel('Expiration')\n",
    "ax.set_zlabel('implied volatility')\n",
    "\n",
    "plt.show()"
   ]
  },
  {
   "cell_type": "code",
   "execution_count": null,
   "metadata": {},
   "outputs": [],
   "source": [
    "\n",
    "from mpl_toolkits.mplot3d import Axes3D\n",
    "import matplotlib.pyplot as plt\n",
    "\n",
    "fig = plt.figure()\n",
    "ax = fig.add_subplot(111, projection='3d')\n",
    "\n",
    "x =df['strike_price']\n",
    "y =df['expiration']\n",
    "z =df['implied_volatility']\n",
    "\n",
    "\n",
    "ax.scatter(x, y, z,  marker='o',alpha = 0.5)\n",
    "\n",
    "ax.set_xlabel('Strike')\n",
    "ax.set_ylabel('Expiration')\n",
    "ax.set_zlabel('Pred ImpVol')\n",
    "\n",
    "plt.show()"
   ]
  },
  {
   "cell_type": "code",
   "execution_count": 68,
   "metadata": {},
   "outputs": [],
   "source": [
    "%matplotlib qt\n",
    "from mpl_toolkits.mplot3d import Axes3D\n",
    "import matplotlib.pyplot as plt\n",
    "\n",
    "fig = plt.figure()\n",
    "ax = fig.add_subplot(111, projection='3d')\n",
    "\n",
    "x =df['strike price']\n",
    "y =df['expiration']\n",
    "z =df['True ImpVol']\n",
    "\n",
    "money = df['mon']\n",
    "money\n",
    "ax.scatter(x, y, z, c=money, marker='o',alpha = 0.5)\n",
    "\n",
    "ax.set_xlabel('Strike')\n",
    "ax.set_ylabel('Expiration')\n",
    "ax.set_zlabel('True ImpVol')\n",
    "\n",
    "plt.show()\n"
   ]
  },
  {
   "cell_type": "code",
   "execution_count": 69,
   "metadata": {},
   "outputs": [],
   "source": [
    "%matplotlib qt\n",
    "from mpl_toolkits.mplot3d import Axes3D\n",
    "import matplotlib.pyplot as plt\n",
    "\n",
    "fig = plt.figure()\n",
    "ax = fig.add_subplot(111, projection='3d')\n",
    "\n",
    "x =df['strike price']\n",
    "y =df['expiration']\n",
    "z =df['Pred ImpVol']\n",
    "\n",
    "money = df['mon']\n",
    "money\n",
    "ax.scatter(x, y, z, c=money, marker='o',alpha = 0.5)\n",
    "\n",
    "ax.set_xlabel('Strike')\n",
    "ax.set_ylabel('Expiration')\n",
    "ax.set_zlabel('Pred ImpVol')\n",
    "\n",
    "plt.show()"
   ]
  },
  {
   "cell_type": "code",
   "execution_count": 48,
   "metadata": {},
   "outputs": [],
   "source": [
    "from mpl_toolkits.mplot3d import Axes3D\n",
    "import matplotlib.pyplot as plt\n",
    "\n",
    "fig = plt.figure()\n",
    "ax = fig.add_subplot(111, projection='3d')\n",
    "\n",
    "x =df[df['expiration']>200]['strike price']\n",
    "y =df[df['expiration']>200]['expiration']\n",
    "z =df[df['expiration']>200]['Pred ImpVol']\n",
    "\n",
    "money = df[df['expiration']>200]['mon']\n",
    "money\n",
    "ax.scatter(x, y, z, c=money, marker='o',alpha = 0.5)\n",
    "\n",
    "ax.set_xlabel('Strike')\n",
    "ax.set_ylabel('Expiration')\n",
    "ax.set_zlabel('True ImpVol')\n",
    "\n",
    "plt.show()\n"
   ]
  }
 ],
 "metadata": {
  "kernelspec": {
   "display_name": "tf",
   "language": "python",
   "name": "tf"
  },
  "language_info": {
   "codemirror_mode": {
    "name": "ipython",
    "version": 3
   },
   "file_extension": ".py",
   "mimetype": "text/x-python",
   "name": "python",
   "nbconvert_exporter": "python",
   "pygments_lexer": "ipython3",
   "version": "3.8.5"
  }
 },
 "nbformat": 4,
 "nbformat_minor": 4
}
