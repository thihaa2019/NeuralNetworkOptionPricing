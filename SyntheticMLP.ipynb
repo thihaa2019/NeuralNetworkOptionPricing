{
 "cells": [
  {
   "cell_type": "markdown",
   "metadata": {},
   "source": [
    "# Simple Multilayer Perceptron replication of on Black Scholes model"
   ]
  },
  {
   "cell_type": "markdown",
   "metadata": {},
   "source": [
    "References:\n",
    "\n",
    "[Professor Johannes Ruf literature review](https://arxiv.org/pdf/1911.05620.pdf)\n",
    "\n",
    "[Robert Culkin, Sanjiv R. Das, Machine Learning in Finance: The Case of Deep Learning for Option Pricing (2017)](https://www.semanticscholar.org/paper/Machine-Learning-in-Finance-%3A-The-Case-of-Deep-for-Culkin/fffa2cec0b796707c975067654851e878a00a469).  \n",
    "\n",
    "[Pricing options and computing implied volatilities\n",
    "using neural networks\n",
    "Shuaiqiang Liu](https://arxiv.org/pdf/1901.08943.pdf)."
   ]
  },
  {
   "cell_type": "markdown",
   "metadata": {},
   "source": [
    "## Project Overview\n",
    "### Background\n",
    "**The Black Scholes model** is used to price put and call options by estimating the variation over time said financial instruments. The model is based on the assumption that the markets are highly efficient (i.e., Efficient Market Hypothesis), which suggests that stock prices are uncorrelated to one another across time. As a result, Geometric Brownian Motion (GBM) also has been assumed. However, the assumption isoften violated in practice, leading to numerous variations of the Black-Scholes model. \n",
    "\n",
    "The **Black-Scholes formula for European call and put options** are:\n",
    "\n",
    "$$C(S_0,t)=S_0N(d_1)-Ke^{-r(T-t)}N(d_2)$$\n",
    "$$P(S_0,t)=Ke^{-r(T-t)}N(-d_2)-S_0N(-d_1)$$\n",
    "where\n",
    "- $S_0$: Stock Price\n",
    "- $C(S_0,t)$: Price of the Call Option\n",
    "- $K$: Exercise Price\n",
    "- $(T-t)$: Time to Maturity, where T is Exercise Date\n",
    "- $\\sigma$: Underlying Volatility (a standard deviation of log returns) (30,60,252 days returns,etc)\n",
    "- $r$: Risk-free Interest Rate (i.e., T-bill Rate)\n",
    "\n",
    "The $d_i$ variables are defined as:\n",
    "$$d_1=\\frac{\\ln\\frac{S_0}{K}+(r+\\frac{\\sigma^2}{2})(T-t)}{\\sigma\\sqrt{T-t}}$$\n",
    "$$d_2=d_1-\\sigma\\sqrt{T-t}=\\frac{\\ln\\frac{S_0}{K}+(r-\\frac{\\sigma^2}{2})(T-t)}{\\sigma\\sqrt{T-t}}$$\n",
    "\n",
    "Finally, $N(x)$ is cumulative distribution function for the standard normal distribution.\n",
    "\n",
    "\n",
    "\n",
    "### Project Objectives\n",
    "In this project, we aim to do the following:\n",
    "1) Recreate Culkin and Das' work\\\n",
    "2) See whether fitted simulated model performs well on actual data \\\n",
    "3) Observe if the model can perform better based on different datasets"
   ]
  },
  {
   "cell_type": "code",
   "execution_count": 1,
   "metadata": {
    "scrolled": true
   },
   "outputs": [
    {
     "data": {
      "text/html": [
       "<div>\n",
       "<style scoped>\n",
       "    .dataframe tbody tr th:only-of-type {\n",
       "        vertical-align: middle;\n",
       "    }\n",
       "\n",
       "    .dataframe tbody tr th {\n",
       "        vertical-align: top;\n",
       "    }\n",
       "\n",
       "    .dataframe thead th {\n",
       "        text-align: right;\n",
       "    }\n",
       "</style>\n",
       "<table border=\"1\" class=\"dataframe\">\n",
       "  <thead>\n",
       "    <tr style=\"text-align: right;\">\n",
       "      <th></th>\n",
       "      <th>Unnamed: 0</th>\n",
       "      <th>Stock Price</th>\n",
       "      <th>Strike Price</th>\n",
       "      <th>Maturity</th>\n",
       "      <th>Dividends</th>\n",
       "      <th>Volatility</th>\n",
       "      <th>Risk-free</th>\n",
       "      <th>Call Price</th>\n",
       "    </tr>\n",
       "  </thead>\n",
       "  <tbody>\n",
       "    <tr>\n",
       "      <th>0</th>\n",
       "      <td>0</td>\n",
       "      <td>206.484182</td>\n",
       "      <td>194.386150</td>\n",
       "      <td>1.093151</td>\n",
       "      <td>0.005674</td>\n",
       "      <td>0.862692</td>\n",
       "      <td>0.058898</td>\n",
       "      <td>79.434285</td>\n",
       "    </tr>\n",
       "    <tr>\n",
       "      <th>1</th>\n",
       "      <td>1</td>\n",
       "      <td>79.581809</td>\n",
       "      <td>73.926431</td>\n",
       "      <td>0.843836</td>\n",
       "      <td>0.020428</td>\n",
       "      <td>0.759562</td>\n",
       "      <td>0.080634</td>\n",
       "      <td>24.975516</td>\n",
       "    </tr>\n",
       "    <tr>\n",
       "      <th>2</th>\n",
       "      <td>2</td>\n",
       "      <td>130.957110</td>\n",
       "      <td>154.101232</td>\n",
       "      <td>1.326027</td>\n",
       "      <td>0.019181</td>\n",
       "      <td>0.606436</td>\n",
       "      <td>0.042031</td>\n",
       "      <td>28.927743</td>\n",
       "    </tr>\n",
       "    <tr>\n",
       "      <th>3</th>\n",
       "      <td>3</td>\n",
       "      <td>53.020511</td>\n",
       "      <td>58.598175</td>\n",
       "      <td>0.791781</td>\n",
       "      <td>0.028475</td>\n",
       "      <td>0.572696</td>\n",
       "      <td>0.036566</td>\n",
       "      <td>8.573626</td>\n",
       "    </tr>\n",
       "    <tr>\n",
       "      <th>4</th>\n",
       "      <td>4</td>\n",
       "      <td>455.190704</td>\n",
       "      <td>529.570396</td>\n",
       "      <td>0.501370</td>\n",
       "      <td>0.009074</td>\n",
       "      <td>0.090578</td>\n",
       "      <td>0.044426</td>\n",
       "      <td>0.210253</td>\n",
       "    </tr>\n",
       "    <tr>\n",
       "      <th>...</th>\n",
       "      <td>...</td>\n",
       "      <td>...</td>\n",
       "      <td>...</td>\n",
       "      <td>...</td>\n",
       "      <td>...</td>\n",
       "      <td>...</td>\n",
       "      <td>...</td>\n",
       "      <td>...</td>\n",
       "    </tr>\n",
       "    <tr>\n",
       "      <th>299995</th>\n",
       "      <td>299995</td>\n",
       "      <td>350.089693</td>\n",
       "      <td>297.253216</td>\n",
       "      <td>2.290411</td>\n",
       "      <td>0.024958</td>\n",
       "      <td>0.798014</td>\n",
       "      <td>0.065783</td>\n",
       "      <td>173.232381</td>\n",
       "    </tr>\n",
       "    <tr>\n",
       "      <th>299996</th>\n",
       "      <td>299996</td>\n",
       "      <td>298.185427</td>\n",
       "      <td>349.183746</td>\n",
       "      <td>1.232877</td>\n",
       "      <td>0.025116</td>\n",
       "      <td>0.258656</td>\n",
       "      <td>0.098986</td>\n",
       "      <td>25.075951</td>\n",
       "    </tr>\n",
       "    <tr>\n",
       "      <th>299997</th>\n",
       "      <td>299997</td>\n",
       "      <td>75.461971</td>\n",
       "      <td>94.875668</td>\n",
       "      <td>2.473973</td>\n",
       "      <td>0.017064</td>\n",
       "      <td>0.765170</td>\n",
       "      <td>0.015199</td>\n",
       "      <td>28.150892</td>\n",
       "    </tr>\n",
       "    <tr>\n",
       "      <th>299998</th>\n",
       "      <td>299998</td>\n",
       "      <td>498.375137</td>\n",
       "      <td>360.035145</td>\n",
       "      <td>2.260274</td>\n",
       "      <td>0.025877</td>\n",
       "      <td>0.119936</td>\n",
       "      <td>0.029400</td>\n",
       "      <td>134.079063</td>\n",
       "    </tr>\n",
       "    <tr>\n",
       "      <th>299999</th>\n",
       "      <td>299999</td>\n",
       "      <td>280.009181</td>\n",
       "      <td>296.958706</td>\n",
       "      <td>0.249315</td>\n",
       "      <td>0.008176</td>\n",
       "      <td>0.184513</td>\n",
       "      <td>0.057586</td>\n",
       "      <td>5.175015</td>\n",
       "    </tr>\n",
       "  </tbody>\n",
       "</table>\n",
       "<p>300000 rows × 8 columns</p>\n",
       "</div>"
      ],
      "text/plain": [
       "        Unnamed: 0  Stock Price  Strike Price  Maturity  Dividends  \\\n",
       "0                0   206.484182    194.386150  1.093151   0.005674   \n",
       "1                1    79.581809     73.926431  0.843836   0.020428   \n",
       "2                2   130.957110    154.101232  1.326027   0.019181   \n",
       "3                3    53.020511     58.598175  0.791781   0.028475   \n",
       "4                4   455.190704    529.570396  0.501370   0.009074   \n",
       "...            ...          ...           ...       ...        ...   \n",
       "299995      299995   350.089693    297.253216  2.290411   0.024958   \n",
       "299996      299996   298.185427    349.183746  1.232877   0.025116   \n",
       "299997      299997    75.461971     94.875668  2.473973   0.017064   \n",
       "299998      299998   498.375137    360.035145  2.260274   0.025877   \n",
       "299999      299999   280.009181    296.958706  0.249315   0.008176   \n",
       "\n",
       "        Volatility  Risk-free  Call Price  \n",
       "0         0.862692   0.058898   79.434285  \n",
       "1         0.759562   0.080634   24.975516  \n",
       "2         0.606436   0.042031   28.927743  \n",
       "3         0.572696   0.036566    8.573626  \n",
       "4         0.090578   0.044426    0.210253  \n",
       "...            ...        ...         ...  \n",
       "299995    0.798014   0.065783  173.232381  \n",
       "299996    0.258656   0.098986   25.075951  \n",
       "299997    0.765170   0.015199   28.150892  \n",
       "299998    0.119936   0.029400  134.079063  \n",
       "299999    0.184513   0.057586    5.175015  \n",
       "\n",
       "[300000 rows x 8 columns]"
      ]
     },
     "execution_count": 1,
     "metadata": {},
     "output_type": "execute_result"
    }
   ],
   "source": [
    "\n",
    "from numpy.random import seed\n",
    "seed(1)\n",
    "import tensorflow\n",
    "import numpy as np\n",
    "tensorflow.random.set_seed(2)\n",
    "import pandas as pd\n",
    "import altair as alt\n",
    "import tensorflow as tf\n",
    "call = pd.read_csv('Data/SimBS.csv')\n",
    "call"
   ]
  },
  {
   "cell_type": "markdown",
   "metadata": {},
   "source": [
    "We recreate the dataset with parameter settings below.\n",
    "#### 1. Culkin and Das (2017)\n",
    "\n",
    "To train a neural network to learn the call option pricing equation, Culkin and Das (2017) simulated a range of call option prices with ranges of different parameters:\n",
    "\n",
    "Note that the relation between predictors are ignored. (i.e; each parameters are created randomly from it's own distribution since our hypothesis is to observe how well neural network can learn black scholes pricing.)\n",
    "\n",
    "| Parameter              |   Range           |\n",
    "|:-----------------------|:------------------|\n",
    "| Stock Price $(S)$      | \\\\$10 — \\\\$50     |\n",
    "| Strike Price $(K)$     |  \\\\$7 — \\\\$650    |\n",
    "| Maturity $(T-t)$       | 1 day to 3 years  |\n",
    "| Dividend Rate $(q)$    | 0\\% — 3\\%         |\n",
    "| Risk Free Rate $(r)$   | 1\\% — 3\\%         |\n",
    "| Volatility $(\\sigma)$  | 5\\% — 90\\%        |\n",
    "| Call Price $(C)$       |  \\\\$0 — \\\\$328    |\n",
    "\n",
    "In total, the dataset contains 300,000 observations."
   ]
  },
  {
   "cell_type": "code",
   "execution_count": 2,
   "metadata": {
    "scrolled": false
   },
   "outputs": [
    {
     "data": {
      "text/html": [
       "<div>\n",
       "<style scoped>\n",
       "    .dataframe tbody tr th:only-of-type {\n",
       "        vertical-align: middle;\n",
       "    }\n",
       "\n",
       "    .dataframe tbody tr th {\n",
       "        vertical-align: top;\n",
       "    }\n",
       "\n",
       "    .dataframe thead th {\n",
       "        text-align: right;\n",
       "    }\n",
       "</style>\n",
       "<table border=\"1\" class=\"dataframe\">\n",
       "  <thead>\n",
       "    <tr style=\"text-align: right;\">\n",
       "      <th></th>\n",
       "      <th>Stock Price</th>\n",
       "      <th>Strike Price</th>\n",
       "      <th>Maturity</th>\n",
       "      <th>Dividends</th>\n",
       "      <th>Volatility</th>\n",
       "      <th>Risk-free</th>\n",
       "      <th>Call Price</th>\n",
       "      <th>moneyness</th>\n",
       "    </tr>\n",
       "  </thead>\n",
       "  <tbody>\n",
       "    <tr>\n",
       "      <th>0</th>\n",
       "      <td>206.484182</td>\n",
       "      <td>194.386150</td>\n",
       "      <td>1.093151</td>\n",
       "      <td>0.005674</td>\n",
       "      <td>0.862692</td>\n",
       "      <td>0.058898</td>\n",
       "      <td>79.434285</td>\n",
       "      <td>1.062237</td>\n",
       "    </tr>\n",
       "    <tr>\n",
       "      <th>1</th>\n",
       "      <td>79.581809</td>\n",
       "      <td>73.926431</td>\n",
       "      <td>0.843836</td>\n",
       "      <td>0.020428</td>\n",
       "      <td>0.759562</td>\n",
       "      <td>0.080634</td>\n",
       "      <td>24.975516</td>\n",
       "      <td>1.076500</td>\n",
       "    </tr>\n",
       "    <tr>\n",
       "      <th>2</th>\n",
       "      <td>130.957110</td>\n",
       "      <td>154.101232</td>\n",
       "      <td>1.326027</td>\n",
       "      <td>0.019181</td>\n",
       "      <td>0.606436</td>\n",
       "      <td>0.042031</td>\n",
       "      <td>28.927743</td>\n",
       "      <td>0.849812</td>\n",
       "    </tr>\n",
       "    <tr>\n",
       "      <th>3</th>\n",
       "      <td>53.020511</td>\n",
       "      <td>58.598175</td>\n",
       "      <td>0.791781</td>\n",
       "      <td>0.028475</td>\n",
       "      <td>0.572696</td>\n",
       "      <td>0.036566</td>\n",
       "      <td>8.573626</td>\n",
       "      <td>0.904815</td>\n",
       "    </tr>\n",
       "    <tr>\n",
       "      <th>4</th>\n",
       "      <td>455.190704</td>\n",
       "      <td>529.570396</td>\n",
       "      <td>0.501370</td>\n",
       "      <td>0.009074</td>\n",
       "      <td>0.090578</td>\n",
       "      <td>0.044426</td>\n",
       "      <td>0.210253</td>\n",
       "      <td>0.859547</td>\n",
       "    </tr>\n",
       "  </tbody>\n",
       "</table>\n",
       "</div>"
      ],
      "text/plain": [
       "   Stock Price  Strike Price  Maturity  Dividends  Volatility  Risk-free  \\\n",
       "0   206.484182    194.386150  1.093151   0.005674    0.862692   0.058898   \n",
       "1    79.581809     73.926431  0.843836   0.020428    0.759562   0.080634   \n",
       "2   130.957110    154.101232  1.326027   0.019181    0.606436   0.042031   \n",
       "3    53.020511     58.598175  0.791781   0.028475    0.572696   0.036566   \n",
       "4   455.190704    529.570396  0.501370   0.009074    0.090578   0.044426   \n",
       "\n",
       "   Call Price  moneyness  \n",
       "0   79.434285   1.062237  \n",
       "1   24.975516   1.076500  \n",
       "2   28.927743   0.849812  \n",
       "3    8.573626   0.904815  \n",
       "4    0.210253   0.859547  "
      ]
     },
     "execution_count": 2,
     "metadata": {},
     "output_type": "execute_result"
    }
   ],
   "source": [
    "call['moneyness'] = call['Stock Price']/call['Strike Price']\n",
    "call = call.drop(['Unnamed: 0'], axis= 1)\n",
    "call.head()\n"
   ]
  },
  {
   "cell_type": "code",
   "execution_count": 3,
   "metadata": {},
   "outputs": [
    {
     "data": {
      "text/plain": [
       "False"
      ]
     },
     "execution_count": 3,
     "metadata": {},
     "output_type": "execute_result"
    }
   ],
   "source": [
    "min(call['Call Price']!=0)"
   ]
  },
  {
   "cell_type": "code",
   "execution_count": 4,
   "metadata": {},
   "outputs": [
    {
     "name": "stderr",
     "output_type": "stream",
     "text": [
      "<ipython-input-4-393505ce4e4f>:2: SettingWithCopyWarning: \n",
      "A value is trying to be set on a copy of a slice from a DataFrame\n",
      "\n",
      "See the caveats in the documentation: https://pandas.pydata.org/pandas-docs/stable/user_guide/indexing.html#returning-a-view-versus-a-copy\n",
      "  call['Indicator'][call['moneyness']>1.] = 1\n",
      "<ipython-input-4-393505ce4e4f>:3: SettingWithCopyWarning: \n",
      "A value is trying to be set on a copy of a slice from a DataFrame\n",
      "\n",
      "See the caveats in the documentation: https://pandas.pydata.org/pandas-docs/stable/user_guide/indexing.html#returning-a-view-versus-a-copy\n",
      "  call['Indicator'][call['moneyness']<=1] = 0\n"
     ]
    }
   ],
   "source": [
    "call['Indicator'] =0\n",
    "call['Indicator'][call['moneyness']>1.] = 1\n",
    "call['Indicator'][call['moneyness']<=1] = 0"
   ]
  },
  {
   "cell_type": "code",
   "execution_count": 5,
   "metadata": {},
   "outputs": [],
   "source": [
    "from scipy.stats import norm\n",
    "def get_BS(S,K,T,r,sigma, type='call'):\n",
    "    d1 = (np.log(S/K) + (r + 0.5 * sigma**2) * T)/(sigma * np.sqrt(T))\n",
    "    d2 = (np.log(S/K) + (r - 0.5 * sigma**2) * T)/(sigma * np.sqrt(T))\n",
    "    if type == 'call':\n",
    "            val = (S*norm.cdf(d1, 0, 1)-K*np.exp(-r*T)*norm.cdf(d2, 0, 1))\n",
    "    elif type == 'put':\n",
    "            val = (K*np.exp(-_r*T)*norm.cdf(-d2, 0, 1)-S *norm.cdf(-d1, 0, 1))\n",
    "    return val"
   ]
  },
  {
   "cell_type": "code",
   "execution_count": 6,
   "metadata": {},
   "outputs": [
    {
     "data": {
      "text/plain": [
       "80.35484648276434"
      ]
     },
     "execution_count": 6,
     "metadata": {},
     "output_type": "execute_result"
    }
   ],
   "source": [
    "get_BS(206.484182,194.386150,1.093151,0.058898,0.862692)"
   ]
  },
  {
   "cell_type": "markdown",
   "metadata": {},
   "source": [
    "### Unlike the paper, besides S,K,T,r,$\\sigma$ as predictors we will also use moneyness.\n"
   ]
  },
  {
   "cell_type": "code",
   "execution_count": 7,
   "metadata": {},
   "outputs": [
    {
     "data": {
      "text/plain": [
       "(8,)"
      ]
     },
     "execution_count": 7,
     "metadata": {},
     "output_type": "execute_result"
    }
   ],
   "source": [
    "X = call[['Stock Price','Strike Price','Maturity','Dividends','Risk-free','Volatility','moneyness','Indicator']].values\n",
    "y = call['Call Price'].values\n",
    "from sklearn.model_selection import train_test_split\n",
    "X_train_full, X_test, y_train_full, y_test = train_test_split(X, y, test_size=0.30,shuffle = True)\n",
    "X_train, X_valid, y_train, y_valid = train_test_split(X_train_full, y_train_full,test_size=0.25\n",
    "                                                      ,shuffle = True)\n",
    "X_train.shape[1:]\n",
    "\n"
   ]
  },
  {
   "cell_type": "markdown",
   "metadata": {},
   "source": [
    "# Optimized Parameters via Random Search Optimization\n",
    "| Parameter              |   Value           |\n",
    "|:-----------------------|:------------------|\n",
    "| Number of layers       |        6          |\n",
    "| Number of Neurons      |      430          |          \n",
    "| Adam learn rate        | 3e-5              |\n",
    "| Dropout rate           | 0.0               |\n",
    "\n",
    "\n",
    "### Normalization is done inside the model"
   ]
  },
  {
   "cell_type": "markdown",
   "metadata": {},
   "source": [
    "# MLP architecture definition"
   ]
  },
  {
   "cell_type": "code",
   "execution_count": 8,
   "metadata": {},
   "outputs": [],
   "source": [
    "from keras.models import Sequential\n",
    "from keras.layers import Dense, Dropout, Activation, LeakyReLU, BatchNormalization\n",
    "import keras\n",
    "nodes = 120\n",
    "def build_model(n_hidden=6, n_neurons=430, learning_rate=3e-5, input_shape=(8,),dropout = 0.0):\n",
    "    model = Sequential()\n",
    "    model.add(keras.layers.InputLayer(input_shape = input_shape))\n",
    "    model.add(BatchNormalization())\n",
    "    for layer in range(n_hidden):\n",
    "        model.add(Dense(n_neurons, activation='relu'))\n",
    "        model.add(Dropout(dropout))\n",
    "    model.add(keras.layers.Dense(1))\n",
    "    optimizer = keras.optimizers.Adam(lr = learning_rate)\n",
    "    model.compile(loss='mean_squared_error', optimizer=optimizer)\n",
    "    return model"
   ]
  },
  {
   "cell_type": "code",
   "execution_count": 39,
   "metadata": {
    "scrolled": false
   },
   "outputs": [
    {
     "name": "stdout",
     "output_type": "stream",
     "text": [
      "Epoch 1/50\n",
      "149/149 [==============================] - 1s 8ms/step - loss: 5656.4663 - val_loss: 1769.0934\n",
      "Epoch 2/50\n",
      "149/149 [==============================] - 1s 6ms/step - loss: 759.5507 - val_loss: 378.2154\n",
      "Epoch 3/50\n",
      "149/149 [==============================] - 1s 6ms/step - loss: 186.8840 - val_loss: 153.1181\n",
      "Epoch 4/50\n",
      "149/149 [==============================] - 1s 6ms/step - loss: 111.2036 - val_loss: 86.6800\n",
      "Epoch 5/50\n",
      "149/149 [==============================] - 1s 6ms/step - loss: 63.9145 - val_loss: 40.6533\n",
      "Epoch 6/50\n",
      "149/149 [==============================] - 1s 6ms/step - loss: 36.2260 - val_loss: 29.4732\n",
      "Epoch 7/50\n",
      "149/149 [==============================] - 1s 6ms/step - loss: 24.2841 - val_loss: 17.7720\n",
      "Epoch 8/50\n",
      "149/149 [==============================] - 1s 6ms/step - loss: 23.7195 - val_loss: 19.7690\n",
      "Epoch 9/50\n",
      "149/149 [==============================] - 1s 6ms/step - loss: 18.5108 - val_loss: 14.9424\n",
      "Epoch 10/50\n",
      "149/149 [==============================] - 1s 6ms/step - loss: 20.3257 - val_loss: 10.3796\n",
      "Epoch 11/50\n",
      "149/149 [==============================] - 1s 6ms/step - loss: 16.1524 - val_loss: 8.6826\n",
      "Epoch 12/50\n",
      "149/149 [==============================] - 1s 6ms/step - loss: 15.1534 - val_loss: 12.3269\n",
      "Epoch 13/50\n",
      "149/149 [==============================] - 1s 6ms/step - loss: 14.3040 - val_loss: 7.4012\n",
      "Epoch 14/50\n",
      "149/149 [==============================] - 1s 6ms/step - loss: 14.4702 - val_loss: 9.0534\n",
      "Epoch 15/50\n",
      "149/149 [==============================] - 1s 7ms/step - loss: 14.0752 - val_loss: 6.4123\n",
      "Epoch 16/50\n",
      "149/149 [==============================] - 1s 7ms/step - loss: 12.6813 - val_loss: 10.0638\n",
      "Epoch 17/50\n",
      "149/149 [==============================] - 1s 7ms/step - loss: 14.3564 - val_loss: 5.4094\n",
      "Epoch 18/50\n",
      "149/149 [==============================] - 1s 7ms/step - loss: 11.4093 - val_loss: 12.5702\n",
      "Epoch 19/50\n",
      "149/149 [==============================] - 1s 7ms/step - loss: 12.6851 - val_loss: 6.8093\n",
      "Epoch 20/50\n",
      "149/149 [==============================] - 1s 8ms/step - loss: 11.9236 - val_loss: 7.8558\n",
      "Epoch 21/50\n",
      "149/149 [==============================] - 1s 8ms/step - loss: 12.5462 - val_loss: 4.4040\n",
      "Epoch 22/50\n",
      "149/149 [==============================] - 1s 8ms/step - loss: 12.0105 - val_loss: 5.5901\n",
      "Epoch 23/50\n",
      "149/149 [==============================] - 1s 9ms/step - loss: 10.3311 - val_loss: 7.2795\n",
      "Epoch 24/50\n",
      "149/149 [==============================] - 1s 9ms/step - loss: 12.0016 - val_loss: 5.4722\n",
      "Epoch 25/50\n",
      "149/149 [==============================] - 1s 9ms/step - loss: 11.4846 - val_loss: 15.2894\n",
      "Epoch 26/50\n",
      "149/149 [==============================] - 1s 9ms/step - loss: 10.4400 - val_loss: 3.5828\n",
      "Epoch 27/50\n",
      "149/149 [==============================] - 1s 9ms/step - loss: 10.4054 - val_loss: 6.4695\n",
      "Epoch 28/50\n",
      "149/149 [==============================] - 1s 9ms/step - loss: 11.1436 - val_loss: 3.7461\n",
      "Epoch 29/50\n",
      "149/149 [==============================] - 1s 9ms/step - loss: 11.5701 - val_loss: 20.9236\n",
      "Epoch 30/50\n",
      "149/149 [==============================] - 1s 9ms/step - loss: 13.1221 - val_loss: 5.8640\n",
      "Epoch 31/50\n",
      "149/149 [==============================] - 1s 9ms/step - loss: 10.9046 - val_loss: 3.3600\n",
      "Epoch 32/50\n",
      "149/149 [==============================] - 1s 9ms/step - loss: 9.4784 - val_loss: 4.9109\n",
      "Epoch 33/50\n",
      "149/149 [==============================] - 1s 9ms/step - loss: 10.7630 - val_loss: 4.9180\n",
      "Epoch 34/50\n",
      "149/149 [==============================] - 1s 9ms/step - loss: 10.1062 - val_loss: 2.9323\n",
      "Epoch 35/50\n",
      "149/149 [==============================] - 1s 9ms/step - loss: 8.9025 - val_loss: 6.2977\n",
      "Epoch 36/50\n",
      "149/149 [==============================] - 1s 9ms/step - loss: 10.4891 - val_loss: 4.4560\n",
      "Epoch 37/50\n",
      "149/149 [==============================] - 1s 9ms/step - loss: 7.8310 - val_loss: 3.6772\n",
      "Epoch 38/50\n",
      "149/149 [==============================] - 1s 9ms/step - loss: 9.7222 - val_loss: 7.8500\n",
      "Epoch 39/50\n",
      "149/149 [==============================] - 1s 9ms/step - loss: 9.6208 - val_loss: 2.4236\n",
      "Epoch 40/50\n",
      "149/149 [==============================] - 1s 9ms/step - loss: 9.4816 - val_loss: 8.0729\n",
      "Epoch 41/50\n",
      "149/149 [==============================] - 1s 9ms/step - loss: 11.1440 - val_loss: 3.5451\n",
      "Epoch 42/50\n",
      "149/149 [==============================] - 1s 9ms/step - loss: 9.9904 - val_loss: 12.4415\n",
      "Epoch 43/50\n",
      "149/149 [==============================] - 1s 9ms/step - loss: 11.3103 - val_loss: 2.9986\n",
      "Epoch 44/50\n",
      "149/149 [==============================] - 1s 9ms/step - loss: 9.3018 - val_loss: 2.5124\n",
      "Epoch 45/50\n",
      "149/149 [==============================] - 1s 9ms/step - loss: 8.6641 - val_loss: 2.2383\n",
      "Epoch 46/50\n",
      "149/149 [==============================] - 1s 9ms/step - loss: 7.9502 - val_loss: 2.1168\n",
      "Epoch 47/50\n",
      "149/149 [==============================] - 1s 9ms/step - loss: 9.0524 - val_loss: 7.2845\n",
      "Epoch 48/50\n",
      "149/149 [==============================] - 1s 9ms/step - loss: 8.7201 - val_loss: 6.9247\n",
      "Epoch 49/50\n",
      "149/149 [==============================] - 1s 9ms/step - loss: 9.3856 - val_loss: 3.8955\n",
      "Epoch 50/50\n",
      "149/149 [==============================] - 1s 9ms/step - loss: 10.3982 - val_loss: 17.7111\n"
     ]
    }
   ],
   "source": [
    "import keras\n",
    "keras_reg = tf.keras.wrappers.scikit_learn.KerasRegressor(build_model)\n",
    "history = keras_reg.fit(X_train, y_train, batch_size = 1064,epochs=50,validation_data=(X_valid, y_valid),verbose = 1)"
   ]
  },
  {
   "cell_type": "markdown",
   "metadata": {},
   "source": [
    "# Epoch vs error convergence"
   ]
  },
  {
   "cell_type": "code",
   "execution_count": 40,
   "metadata": {
    "scrolled": true
   },
   "outputs": [
    {
     "data": {
      "image/png": "[encoded data removed]",
      "text/plain": [
       "<Figure size 576x360 with 1 Axes>"
      ]
     },
     "metadata": {
      "needs_background": "light"
     },
     "output_type": "display_data"
    }
   ],
   "source": [
    "pd.DataFrame(history.history).plot(figsize = (8,5))\n",
    "import matplotlib.pyplot as plt\n",
    "plt.grid(True)\n",
    "plt.show()\n"
   ]
  },
  {
   "cell_type": "markdown",
   "metadata": {},
   "source": [
    "# R squared score and MSE on test dataset"
   ]
  },
  {
   "cell_type": "code",
   "execution_count": 41,
   "metadata": {},
   "outputs": [
    {
     "name": "stdout",
     "output_type": "stream",
     "text": [
      "0.9940271672516962 17.73388859722245\n"
     ]
    }
   ],
   "source": [
    "\n",
    "predict = keras_reg.predict(X_test)\n",
    "from sklearn.metrics import mean_squared_error\n",
    "\n",
    "from sklearn.metrics import r2_score\n",
    "print(r2_score(y_test, predict),mean_squared_error(y_test, predict))"
   ]
  },
  {
   "cell_type": "markdown",
   "metadata": {},
   "source": [
    "# For regression of error terms, we use L1 distance"
   ]
  },
  {
   "cell_type": "code",
   "execution_count": 28,
   "metadata": {},
   "outputs": [
    {
     "data": {
      "text/plain": [
       "{'divide': 'ignore', 'over': 'warn', 'under': 'ignore', 'invalid': 'ignore'}"
      ]
     },
     "execution_count": 28,
     "metadata": {},
     "output_type": "execute_result"
    }
   ],
   "source": [
    "np.seterr(divide='ignore', invalid='ignore')\n"
   ]
  },
  {
   "cell_type": "code",
   "execution_count": 42,
   "metadata": {
    "scrolled": false
   },
   "outputs": [
    {
     "data": {
      "text/html": [
       "<div>\n",
       "<style scoped>\n",
       "    .dataframe tbody tr th:only-of-type {\n",
       "        vertical-align: middle;\n",
       "    }\n",
       "\n",
       "    .dataframe tbody tr th {\n",
       "        vertical-align: top;\n",
       "    }\n",
       "\n",
       "    .dataframe thead th {\n",
       "        text-align: right;\n",
       "    }\n",
       "</style>\n",
       "<table border=\"1\" class=\"dataframe\">\n",
       "  <thead>\n",
       "    <tr style=\"text-align: right;\">\n",
       "      <th></th>\n",
       "      <th>Stock Price</th>\n",
       "      <th>Strike Price</th>\n",
       "      <th>Maturity</th>\n",
       "      <th>Dividends</th>\n",
       "      <th>Risk-free</th>\n",
       "      <th>Volatility</th>\n",
       "      <th>moneyness</th>\n",
       "      <th>Indicator</th>\n",
       "      <th>Pred Price</th>\n",
       "      <th>True Price</th>\n",
       "      <th>Difference</th>\n",
       "    </tr>\n",
       "  </thead>\n",
       "  <tbody>\n",
       "    <tr>\n",
       "      <th>0</th>\n",
       "      <td>426.285940</td>\n",
       "      <td>333.987246</td>\n",
       "      <td>0.920548</td>\n",
       "      <td>0.026345</td>\n",
       "      <td>0.089227</td>\n",
       "      <td>0.536574</td>\n",
       "      <td>1.276354</td>\n",
       "      <td>1.0</td>\n",
       "      <td>142.793396</td>\n",
       "      <td>139.624853</td>\n",
       "      <td>3.168543</td>\n",
       "    </tr>\n",
       "    <tr>\n",
       "      <th>1</th>\n",
       "      <td>481.383082</td>\n",
       "      <td>376.312695</td>\n",
       "      <td>1.967123</td>\n",
       "      <td>0.021674</td>\n",
       "      <td>0.010805</td>\n",
       "      <td>0.701212</td>\n",
       "      <td>1.279210</td>\n",
       "      <td>1.0</td>\n",
       "      <td>213.076385</td>\n",
       "      <td>206.616520</td>\n",
       "      <td>6.459866</td>\n",
       "    </tr>\n",
       "    <tr>\n",
       "      <th>2</th>\n",
       "      <td>348.804740</td>\n",
       "      <td>433.954487</td>\n",
       "      <td>1.213699</td>\n",
       "      <td>0.002301</td>\n",
       "      <td>0.058077</td>\n",
       "      <td>0.259517</td>\n",
       "      <td>0.803782</td>\n",
       "      <td>0.0</td>\n",
       "      <td>21.412912</td>\n",
       "      <td>20.216437</td>\n",
       "      <td>1.196475</td>\n",
       "    </tr>\n",
       "    <tr>\n",
       "      <th>3</th>\n",
       "      <td>178.921003</td>\n",
       "      <td>169.576337</td>\n",
       "      <td>2.117808</td>\n",
       "      <td>0.009519</td>\n",
       "      <td>0.056799</td>\n",
       "      <td>0.361575</td>\n",
       "      <td>1.055106</td>\n",
       "      <td>1.0</td>\n",
       "      <td>49.260422</td>\n",
       "      <td>47.688888</td>\n",
       "      <td>1.571534</td>\n",
       "    </tr>\n",
       "    <tr>\n",
       "      <th>4</th>\n",
       "      <td>164.674914</td>\n",
       "      <td>211.405307</td>\n",
       "      <td>0.884932</td>\n",
       "      <td>0.028375</td>\n",
       "      <td>0.018367</td>\n",
       "      <td>0.083443</td>\n",
       "      <td>0.778954</td>\n",
       "      <td>0.0</td>\n",
       "      <td>0.215701</td>\n",
       "      <td>0.001858</td>\n",
       "      <td>0.213843</td>\n",
       "    </tr>\n",
       "  </tbody>\n",
       "</table>\n",
       "</div>"
      ],
      "text/plain": [
       "   Stock Price  Strike Price  Maturity  Dividends  Risk-free  Volatility  \\\n",
       "0   426.285940    333.987246  0.920548   0.026345   0.089227    0.536574   \n",
       "1   481.383082    376.312695  1.967123   0.021674   0.010805    0.701212   \n",
       "2   348.804740    433.954487  1.213699   0.002301   0.058077    0.259517   \n",
       "3   178.921003    169.576337  2.117808   0.009519   0.056799    0.361575   \n",
       "4   164.674914    211.405307  0.884932   0.028375   0.018367    0.083443   \n",
       "\n",
       "   moneyness  Indicator  Pred Price  True Price  Difference  \n",
       "0   1.276354        1.0  142.793396  139.624853    3.168543  \n",
       "1   1.279210        1.0  213.076385  206.616520    6.459866  \n",
       "2   0.803782        0.0   21.412912   20.216437    1.196475  \n",
       "3   1.055106        1.0   49.260422   47.688888    1.571534  \n",
       "4   0.778954        0.0    0.215701    0.001858    0.213843  "
      ]
     },
     "execution_count": 42,
     "metadata": {},
     "output_type": "execute_result"
    }
   ],
   "source": [
    "difference = 0\n",
    "difference =(predict.ravel()- y_test)\n",
    "df = pd.DataFrame(data=X_test,columns = ['Stock Price','Strike Price','Maturity','Dividends','Risk-free','Volatility','moneyness','Indicator']) \n",
    "df['Pred Price'] =predict.ravel()\n",
    "df['True Price'] = y_test\n",
    "df['Difference'] = difference\n",
    "df.head()"
   ]
  },
  {
   "cell_type": "markdown",
   "metadata": {},
   "source": [
    "# Exploratory Data Analysis"
   ]
  },
  {
   "cell_type": "code",
   "execution_count": 43,
   "metadata": {
    "scrolled": false
   },
   "outputs": [
    {
     "data": {
      "image/png": "[encoded data removed]",
      "text/plain": [
       "<Figure size 432x288 with 1 Axes>"
      ]
     },
     "metadata": {
      "needs_background": "light"
     },
     "output_type": "display_data"
    }
   ],
   "source": [
    "import matplotlib.pyplot as plt\n",
    "plt.scatter(df['True Price'], df['Pred Price'], s= 0.1)\n",
    "plt.ylabel(\"Predicted Price\")\n",
    "plt.xlabel(\"Actual Price\")\n",
    "plt.title(\"Actual vs Predicted Price\")\n",
    "plt.show()"
   ]
  },
  {
   "cell_type": "code",
   "execution_count": 44,
   "metadata": {},
   "outputs": [
    {
     "data": {
      "image/png": "[encoded data removed]",
      "text/plain": [
       "<Figure size 432x288 with 1 Axes>"
      ]
     },
     "metadata": {
      "needs_background": "light"
     },
     "output_type": "display_data"
    }
   ],
   "source": [
    "\n",
    "X_itm= X_test[X_test[:,6]>1]\n",
    "X_otm =  X_test[X_test[:,6]<=1]\n",
    "Y_itm = y_test[X_test[:,6]>1]\n",
    "Y_otm = y_test[X_test[:,6]<=1]\n",
    "plt.scatter(Y_itm,keras_reg.predict(X_itm), s=2)\n",
    "plt.scatter(Y_otm, keras_reg.predict(X_otm), c='r', s=1)\n",
    "plt.ylabel(\"Predicted Price\")\n",
    "plt.xlabel(\"Actual Price\")\n",
    "plt.title(\"Actual vs Predicted Price\")\n",
    "plt.legend(['ITM', 'OTM'])\n",
    "plt.show()"
   ]
  },
  {
   "cell_type": "code",
   "execution_count": 32,
   "metadata": {},
   "outputs": [
    {
     "data": {
      "image/png": "[encoded data removed]",
      "text/plain": [
       "<Figure size 432x288 with 1 Axes>"
      ]
     },
     "metadata": {
      "needs_background": "light"
     },
     "output_type": "display_data"
    }
   ],
   "source": [
    "preds_test= keras_reg.predict(X_itm)\n",
    "pricing_error_test = preds_test - Y_itm\n",
    "plt.hist(pricing_error_test, bins= 80, edgecolor='black')\n",
    "plt.title(\"ITM pricing Error\")\n",
    "plt.ylabel(\"Density\")\n",
    "plt.xlim((-20, 20))\n",
    "plt.show()"
   ]
  },
  {
   "cell_type": "code",
   "execution_count": 33,
   "metadata": {
    "scrolled": true
   },
   "outputs": [
    {
     "data": {
      "image/png": "[encoded data removed]",
      "text/plain": [
       "<Figure size 432x288 with 1 Axes>"
      ]
     },
     "metadata": {
      "needs_background": "light"
     },
     "output_type": "display_data"
    }
   ],
   "source": [
    "preds_test= keras_reg.predict(X_otm)\n",
    "pricing_error_test = preds_test - Y_otm\n",
    "plt.hist(pricing_error_test, bins= 80, edgecolor='black')\n",
    "plt.title(\"OTM pricing Error\")\n",
    "plt.ylabel(\"Density\")\n",
    "plt.xlim((-20, 20))\n",
    "plt.show()"
   ]
  },
  {
   "cell_type": "code",
   "execution_count": 34,
   "metadata": {},
   "outputs": [
    {
     "data": {
      "image/png": "[encoded data removed]",
      "text/plain": [
       "<Figure size 432x288 with 1 Axes>"
      ]
     },
     "metadata": {
      "needs_background": "light"
     },
     "output_type": "display_data"
    }
   ],
   "source": [
    "error1 = df[df['True Price']<=150]\n",
    "error1\n",
    "pricing_error_test = error1['Difference']\n",
    "plt.hist(pricing_error_test, bins= 80, edgecolor='black')\n",
    "plt.title(\"Pricing Error with price <=150\")\n",
    "plt.ylabel(\"Density\")\n",
    "plt.xlim((-20, 20))\n",
    "plt.show()"
   ]
  },
  {
   "cell_type": "code",
   "execution_count": 35,
   "metadata": {},
   "outputs": [
    {
     "data": {
      "image/png": "[encoded data removed]",
      "text/plain": [
       "<Figure size 432x288 with 1 Axes>"
      ]
     },
     "metadata": {
      "needs_background": "light"
     },
     "output_type": "display_data"
    }
   ],
   "source": [
    "error3 = df[(df['True Price']>=150)]\n",
    "pricing_error_test = error3['Difference']\n",
    "plt.hist(pricing_error_test, bins= 50, edgecolor='black')\n",
    "plt.title(\"Pricing Error with price >=150 \")\n",
    "plt.ylabel(\"Density\")\n",
    "plt.xlim((-20, 20))\n",
    "plt.show()"
   ]
  },
  {
   "cell_type": "code",
   "execution_count": 36,
   "metadata": {},
   "outputs": [
    {
     "data": {
      "image/png": "[encoded data removed]",
      "text/plain": [
       "<Figure size 432x288 with 1 Axes>"
      ]
     },
     "metadata": {
      "needs_background": "light"
     },
     "output_type": "display_data"
    }
   ],
   "source": [
    "plt.hist(df['Difference'], bins= 80, edgecolor='black')\n",
    "plt.title(\"Out-of-sample(Test data) pricing error\")\n",
    "plt.ylabel(\"Density\")\n",
    "plt.show()\n"
   ]
  },
  {
   "cell_type": "markdown",
   "metadata": {},
   "source": [
    "\n",
    "\n",
    "### Let's do a SLR error rate vs Pred Price increase to see how much predicted price change increases error."
   ]
  },
  {
   "cell_type": "code",
   "execution_count": 45,
   "metadata": {
    "scrolled": true
   },
   "outputs": [
    {
     "data": {
      "text/html": [
       "<table class=\"simpletable\">\n",
       "<caption>OLS Regression Results</caption>\n",
       "<tr>\n",
       "  <th>Dep. Variable:</th>       <td>Difference</td>    <th>  R-squared:         </th>  <td>   0.409</td>  \n",
       "</tr>\n",
       "<tr>\n",
       "  <th>Model:</th>                   <td>OLS</td>       <th>  Adj. R-squared:    </th>  <td>   0.409</td>  \n",
       "</tr>\n",
       "<tr>\n",
       "  <th>Method:</th>             <td>Least Squares</td>  <th>  F-statistic:       </th>  <td>6.218e+04</td> \n",
       "</tr>\n",
       "<tr>\n",
       "  <th>Date:</th>             <td>Mon, 21 Dec 2020</td> <th>  Prob (F-statistic):</th>   <td>  0.00</td>   \n",
       "</tr>\n",
       "<tr>\n",
       "  <th>Time:</th>                 <td>03:01:48</td>     <th>  Log-Likelihood:    </th> <td>-1.7720e+05</td>\n",
       "</tr>\n",
       "<tr>\n",
       "  <th>No. Observations:</th>      <td> 90000</td>      <th>  AIC:               </th>  <td>3.544e+05</td> \n",
       "</tr>\n",
       "<tr>\n",
       "  <th>Df Residuals:</th>          <td> 89998</td>      <th>  BIC:               </th>  <td>3.544e+05</td> \n",
       "</tr>\n",
       "<tr>\n",
       "  <th>Df Model:</th>              <td>     1</td>      <th>                     </th>      <td> </td>     \n",
       "</tr>\n",
       "<tr>\n",
       "  <th>Covariance Type:</th>      <td>nonrobust</td>    <th>                     </th>      <td> </td>     \n",
       "</tr>\n",
       "</table>\n",
       "<table class=\"simpletable\">\n",
       "<tr>\n",
       "       <td></td>         <th>coef</th>     <th>std err</th>      <th>t</th>      <th>P>|t|</th>  <th>[0.025</th>    <th>0.975]</th>  \n",
       "</tr>\n",
       "<tr>\n",
       "  <th>const</th>      <td>    1.8504</td> <td>    0.009</td> <td>  206.586</td> <td> 0.000</td> <td>    1.833</td> <td>    1.868</td>\n",
       "</tr>\n",
       "<tr>\n",
       "  <th>Pred Price</th> <td>    0.0258</td> <td>    0.000</td> <td>  249.358</td> <td> 0.000</td> <td>    0.026</td> <td>    0.026</td>\n",
       "</tr>\n",
       "</table>\n",
       "<table class=\"simpletable\">\n",
       "<tr>\n",
       "  <th>Omnibus:</th>       <td>58704.267</td> <th>  Durbin-Watson:     </th>  <td>   1.999</td>  \n",
       "</tr>\n",
       "<tr>\n",
       "  <th>Prob(Omnibus):</th>  <td> 0.000</td>   <th>  Jarque-Bera (JB):  </th> <td>2483427.713</td>\n",
       "</tr>\n",
       "<tr>\n",
       "  <th>Skew:</th>           <td> 2.572</td>   <th>  Prob(JB):          </th>  <td>    0.00</td>  \n",
       "</tr>\n",
       "<tr>\n",
       "  <th>Kurtosis:</th>       <td>28.215</td>   <th>  Cond. No.          </th>  <td>    134.</td>  \n",
       "</tr>\n",
       "</table><br/><br/>Notes:<br/>[1] Standard Errors assume that the covariance matrix of the errors is correctly specified."
      ],
      "text/plain": [
       "<class 'statsmodels.iolib.summary.Summary'>\n",
       "\"\"\"\n",
       "                            OLS Regression Results                            \n",
       "==============================================================================\n",
       "Dep. Variable:             Difference   R-squared:                       0.409\n",
       "Model:                            OLS   Adj. R-squared:                  0.409\n",
       "Method:                 Least Squares   F-statistic:                 6.218e+04\n",
       "Date:                Mon, 21 Dec 2020   Prob (F-statistic):               0.00\n",
       "Time:                        03:01:48   Log-Likelihood:            -1.7720e+05\n",
       "No. Observations:               90000   AIC:                         3.544e+05\n",
       "Df Residuals:                   89998   BIC:                         3.544e+05\n",
       "Df Model:                           1                                         \n",
       "Covariance Type:            nonrobust                                         \n",
       "==============================================================================\n",
       "                 coef    std err          t      P>|t|      [0.025      0.975]\n",
       "------------------------------------------------------------------------------\n",
       "const          1.8504      0.009    206.586      0.000       1.833       1.868\n",
       "Pred Price     0.0258      0.000    249.358      0.000       0.026       0.026\n",
       "==============================================================================\n",
       "Omnibus:                    58704.267   Durbin-Watson:                   1.999\n",
       "Prob(Omnibus):                  0.000   Jarque-Bera (JB):          2483427.713\n",
       "Skew:                           2.572   Prob(JB):                         0.00\n",
       "Kurtosis:                      28.215   Cond. No.                         134.\n",
       "==============================================================================\n",
       "\n",
       "Notes:\n",
       "[1] Standard Errors assume that the covariance matrix of the errors is correctly specified.\n",
       "\"\"\""
      ]
     },
     "execution_count": 45,
     "metadata": {},
     "output_type": "execute_result"
    }
   ],
   "source": [
    "import statsmodels.api as sm\n",
    "# L1 error\n",
    "X = df['Pred Price']\n",
    "X = sm.add_constant(X)\n",
    "y = abs(df['Difference'])\n",
    "reg = sm.OLS(y,X)\n",
    "results = reg.fit()\n",
    "results.summary()"
   ]
  },
  {
   "cell_type": "markdown",
   "metadata": {},
   "source": [
    "For 1 unit increase in predicted price, the absolute difference decreases by 0.0189. Note that we use absolute difference to observe how much the price changes the overall difference"
   ]
  },
  {
   "cell_type": "markdown",
   "metadata": {},
   "source": [
    "# Which predictors influence Test abs difference the most"
   ]
  },
  {
   "cell_type": "code",
   "execution_count": 46,
   "metadata": {},
   "outputs": [
    {
     "data": {
      "text/html": [
       "<table class=\"simpletable\">\n",
       "<caption>OLS Regression Results</caption>\n",
       "<tr>\n",
       "  <th>Dep. Variable:</th>       <td>Difference</td>    <th>  R-squared:         </th>  <td>   0.550</td>  \n",
       "</tr>\n",
       "<tr>\n",
       "  <th>Model:</th>                   <td>OLS</td>       <th>  Adj. R-squared:    </th>  <td>   0.550</td>  \n",
       "</tr>\n",
       "<tr>\n",
       "  <th>Method:</th>             <td>Least Squares</td>  <th>  F-statistic:       </th>  <td>1.377e+04</td> \n",
       "</tr>\n",
       "<tr>\n",
       "  <th>Date:</th>             <td>Mon, 21 Dec 2020</td> <th>  Prob (F-statistic):</th>   <td>  0.00</td>   \n",
       "</tr>\n",
       "<tr>\n",
       "  <th>Time:</th>                 <td>03:01:50</td>     <th>  Log-Likelihood:    </th> <td>-1.6591e+05</td>\n",
       "</tr>\n",
       "<tr>\n",
       "  <th>No. Observations:</th>      <td> 90000</td>      <th>  AIC:               </th>  <td>3.318e+05</td> \n",
       "</tr>\n",
       "<tr>\n",
       "  <th>Df Residuals:</th>          <td> 89991</td>      <th>  BIC:               </th>  <td>3.319e+05</td> \n",
       "</tr>\n",
       "<tr>\n",
       "  <th>Df Model:</th>              <td>     8</td>      <th>                     </th>      <td> </td>     \n",
       "</tr>\n",
       "<tr>\n",
       "  <th>Covariance Type:</th>      <td>nonrobust</td>    <th>                     </th>      <td> </td>     \n",
       "</tr>\n",
       "</table>\n",
       "<table class=\"simpletable\">\n",
       "<tr>\n",
       "        <td></td>          <th>coef</th>     <th>std err</th>      <th>t</th>      <th>P>|t|</th>  <th>[0.025</th>    <th>0.975]</th>  \n",
       "</tr>\n",
       "<tr>\n",
       "  <th>const</th>        <td>   -6.5492</td> <td>    0.068</td> <td>  -96.483</td> <td> 0.000</td> <td>   -6.682</td> <td>   -6.416</td>\n",
       "</tr>\n",
       "<tr>\n",
       "  <th>Stock Price</th>  <td>    0.0003</td> <td>    0.000</td> <td>    1.466</td> <td> 0.143</td> <td>   -0.000</td> <td>    0.001</td>\n",
       "</tr>\n",
       "<tr>\n",
       "  <th>Strike Price</th> <td>    0.0069</td> <td>    0.000</td> <td>   34.607</td> <td> 0.000</td> <td>    0.007</td> <td>    0.007</td>\n",
       "</tr>\n",
       "<tr>\n",
       "  <th>Maturity</th>     <td>    0.7925</td> <td>    0.006</td> <td>  134.236</td> <td> 0.000</td> <td>    0.781</td> <td>    0.804</td>\n",
       "</tr>\n",
       "<tr>\n",
       "  <th>Dividends</th>    <td>   -9.4117</td> <td>    0.589</td> <td>  -15.981</td> <td> 0.000</td> <td>  -10.566</td> <td>   -8.257</td>\n",
       "</tr>\n",
       "<tr>\n",
       "  <th>Risk-free</th>    <td>    5.6636</td> <td>    0.196</td> <td>   28.854</td> <td> 0.000</td> <td>    5.279</td> <td>    6.048</td>\n",
       "</tr>\n",
       "<tr>\n",
       "  <th>Volatility</th>   <td>    3.3251</td> <td>    0.021</td> <td>  160.441</td> <td> 0.000</td> <td>    3.284</td> <td>    3.366</td>\n",
       "</tr>\n",
       "<tr>\n",
       "  <th>moneyness</th>    <td>    4.9658</td> <td>    0.067</td> <td>   73.702</td> <td> 0.000</td> <td>    4.834</td> <td>    5.098</td>\n",
       "</tr>\n",
       "<tr>\n",
       "  <th>Indicator</th>    <td>    0.3767</td> <td>    0.019</td> <td>   19.480</td> <td> 0.000</td> <td>    0.339</td> <td>    0.415</td>\n",
       "</tr>\n",
       "</table>\n",
       "<table class=\"simpletable\">\n",
       "<tr>\n",
       "  <th>Omnibus:</th>       <td>56432.020</td> <th>  Durbin-Watson:     </th>  <td>   1.991</td>  \n",
       "</tr>\n",
       "<tr>\n",
       "  <th>Prob(Omnibus):</th>  <td> 0.000</td>   <th>  Jarque-Bera (JB):  </th> <td>3931409.426</td>\n",
       "</tr>\n",
       "<tr>\n",
       "  <th>Skew:</th>           <td> 2.263</td>   <th>  Prob(JB):          </th>  <td>    0.00</td>  \n",
       "</tr>\n",
       "<tr>\n",
       "  <th>Kurtosis:</th>       <td>35.061</td>   <th>  Cond. No.          </th>  <td>4.79e+04</td>  \n",
       "</tr>\n",
       "</table><br/><br/>Notes:<br/>[1] Standard Errors assume that the covariance matrix of the errors is correctly specified.<br/>[2] The condition number is large, 4.79e+04. This might indicate that there are<br/>strong multicollinearity or other numerical problems."
      ],
      "text/plain": [
       "<class 'statsmodels.iolib.summary.Summary'>\n",
       "\"\"\"\n",
       "                            OLS Regression Results                            \n",
       "==============================================================================\n",
       "Dep. Variable:             Difference   R-squared:                       0.550\n",
       "Model:                            OLS   Adj. R-squared:                  0.550\n",
       "Method:                 Least Squares   F-statistic:                 1.377e+04\n",
       "Date:                Mon, 21 Dec 2020   Prob (F-statistic):               0.00\n",
       "Time:                        03:01:50   Log-Likelihood:            -1.6591e+05\n",
       "No. Observations:               90000   AIC:                         3.318e+05\n",
       "Df Residuals:                   89991   BIC:                         3.319e+05\n",
       "Df Model:                           8                                         \n",
       "Covariance Type:            nonrobust                                         \n",
       "================================================================================\n",
       "                   coef    std err          t      P>|t|      [0.025      0.975]\n",
       "--------------------------------------------------------------------------------\n",
       "const           -6.5492      0.068    -96.483      0.000      -6.682      -6.416\n",
       "Stock Price      0.0003      0.000      1.466      0.143      -0.000       0.001\n",
       "Strike Price     0.0069      0.000     34.607      0.000       0.007       0.007\n",
       "Maturity         0.7925      0.006    134.236      0.000       0.781       0.804\n",
       "Dividends       -9.4117      0.589    -15.981      0.000     -10.566      -8.257\n",
       "Risk-free        5.6636      0.196     28.854      0.000       5.279       6.048\n",
       "Volatility       3.3251      0.021    160.441      0.000       3.284       3.366\n",
       "moneyness        4.9658      0.067     73.702      0.000       4.834       5.098\n",
       "Indicator        0.3767      0.019     19.480      0.000       0.339       0.415\n",
       "==============================================================================\n",
       "Omnibus:                    56432.020   Durbin-Watson:                   1.991\n",
       "Prob(Omnibus):                  0.000   Jarque-Bera (JB):          3931409.426\n",
       "Skew:                           2.263   Prob(JB):                         0.00\n",
       "Kurtosis:                      35.061   Cond. No.                     4.79e+04\n",
       "==============================================================================\n",
       "\n",
       "Notes:\n",
       "[1] Standard Errors assume that the covariance matrix of the errors is correctly specified.\n",
       "[2] The condition number is large, 4.79e+04. This might indicate that there are\n",
       "strong multicollinearity or other numerical problems.\n",
       "\"\"\""
      ]
     },
     "execution_count": 46,
     "metadata": {},
     "output_type": "execute_result"
    }
   ],
   "source": [
    "X  = df[['Stock Price','Strike Price','Maturity','Dividends','Risk-free','Volatility','moneyness','Indicator']]\n",
    "X = sm.add_constant(X)\n",
    "y = df['Difference']\n",
    "reg = sm.OLS(y,X)\n",
    "results = reg.fit()\n",
    "results.summary()"
   ]
  },
  {
   "cell_type": "markdown",
   "metadata": {},
   "source": [
    " Interesting results:   \n",
    " In the money options: the difference decreases  (In the money is better prediction,\n",
    "may be more in the money data?)  \n",
    " Volatility: the difference decreases (Low volatility preferred)  \n",
    "Maturity: The difference decreases insignificantly. (High maturity preferred)"
   ]
  },
  {
   "cell_type": "markdown",
   "metadata": {},
   "source": [
    "# Diagnose what predictors are important (Just for personal)"
   ]
  },
  {
   "cell_type": "markdown",
   "metadata": {},
   "source": [
    "Recall: $H_0$: $\\beta_i$ = 0"
   ]
  },
  {
   "cell_type": "code",
   "execution_count": 23,
   "metadata": {},
   "outputs": [
    {
     "data": {
      "text/html": [
       "<table class=\"simpletable\">\n",
       "<caption>OLS Regression Results</caption>\n",
       "<tr>\n",
       "  <th>Dep. Variable:</th>       <td>Call Price</td>    <th>  R-squared:         </th>  <td>   0.856</td>  \n",
       "</tr>\n",
       "<tr>\n",
       "  <th>Model:</th>                   <td>OLS</td>       <th>  Adj. R-squared:    </th>  <td>   0.856</td>  \n",
       "</tr>\n",
       "<tr>\n",
       "  <th>Method:</th>             <td>Least Squares</td>  <th>  F-statistic:       </th>  <td>2.224e+05</td> \n",
       "</tr>\n",
       "<tr>\n",
       "  <th>Date:</th>             <td>Mon, 21 Dec 2020</td> <th>  Prob (F-statistic):</th>   <td>  0.00</td>   \n",
       "</tr>\n",
       "<tr>\n",
       "  <th>Time:</th>                 <td>02:55:25</td>     <th>  Log-Likelihood:    </th> <td>-1.3348e+06</td>\n",
       "</tr>\n",
       "<tr>\n",
       "  <th>No. Observations:</th>      <td>300000</td>      <th>  AIC:               </th>  <td>2.670e+06</td> \n",
       "</tr>\n",
       "<tr>\n",
       "  <th>Df Residuals:</th>          <td>299991</td>      <th>  BIC:               </th>  <td>2.670e+06</td> \n",
       "</tr>\n",
       "<tr>\n",
       "  <th>Df Model:</th>              <td>     8</td>      <th>                     </th>      <td> </td>     \n",
       "</tr>\n",
       "<tr>\n",
       "  <th>Covariance Type:</th>      <td>nonrobust</td>    <th>                     </th>      <td> </td>     \n",
       "</tr>\n",
       "</table>\n",
       "<table class=\"simpletable\">\n",
       "<tr>\n",
       "        <td></td>          <th>coef</th>     <th>std err</th>      <th>t</th>      <th>P>|t|</th>  <th>[0.025</th>    <th>0.975]</th>  \n",
       "</tr>\n",
       "<tr>\n",
       "  <th>const</th>        <td>  -96.4103</td> <td>    0.503</td> <td> -191.518</td> <td> 0.000</td> <td>  -97.397</td> <td>  -95.424</td>\n",
       "</tr>\n",
       "<tr>\n",
       "  <th>Stock Price</th>  <td>    0.6305</td> <td>    0.002</td> <td>  416.891</td> <td> 0.000</td> <td>    0.628</td> <td>    0.633</td>\n",
       "</tr>\n",
       "<tr>\n",
       "  <th>Strike Price</th> <td>   -0.3847</td> <td>    0.001</td> <td> -258.561</td> <td> 0.000</td> <td>   -0.388</td> <td>   -0.382</td>\n",
       "</tr>\n",
       "<tr>\n",
       "  <th>Maturity</th>     <td>   21.2049</td> <td>    0.044</td> <td>  485.245</td> <td> 0.000</td> <td>   21.119</td> <td>   21.291</td>\n",
       "</tr>\n",
       "<tr>\n",
       "  <th>Dividends</th>    <td> -253.5676</td> <td>    4.369</td> <td>  -58.036</td> <td> 0.000</td> <td> -262.131</td> <td> -245.004</td>\n",
       "</tr>\n",
       "<tr>\n",
       "  <th>Risk-free</th>    <td>  144.5833</td> <td>    1.456</td> <td>   99.333</td> <td> 0.000</td> <td>  141.730</td> <td>  147.436</td>\n",
       "</tr>\n",
       "<tr>\n",
       "  <th>Volatility</th>   <td>   93.6088</td> <td>    0.154</td> <td>  608.622</td> <td> 0.000</td> <td>   93.307</td> <td>   93.910</td>\n",
       "</tr>\n",
       "<tr>\n",
       "  <th>moneyness</th>    <td>   16.9441</td> <td>    0.499</td> <td>   33.937</td> <td> 0.000</td> <td>   15.965</td> <td>   17.923</td>\n",
       "</tr>\n",
       "<tr>\n",
       "  <th>Indicator</th>    <td>   -2.8141</td> <td>    0.143</td> <td>  -19.646</td> <td> 0.000</td> <td>   -3.095</td> <td>   -2.533</td>\n",
       "</tr>\n",
       "</table>\n",
       "<table class=\"simpletable\">\n",
       "<tr>\n",
       "  <th>Omnibus:</th>       <td>13858.964</td> <th>  Durbin-Watson:     </th> <td>   2.007</td> \n",
       "</tr>\n",
       "<tr>\n",
       "  <th>Prob(Omnibus):</th>  <td> 0.000</td>   <th>  Jarque-Bera (JB):  </th> <td>27638.066</td>\n",
       "</tr>\n",
       "<tr>\n",
       "  <th>Skew:</th>           <td> 0.338</td>   <th>  Prob(JB):          </th> <td>    0.00</td> \n",
       "</tr>\n",
       "<tr>\n",
       "  <th>Kurtosis:</th>       <td> 4.324</td>   <th>  Cond. No.          </th> <td>4.79e+04</td> \n",
       "</tr>\n",
       "</table><br/><br/>Notes:<br/>[1] Standard Errors assume that the covariance matrix of the errors is correctly specified.<br/>[2] The condition number is large, 4.79e+04. This might indicate that there are<br/>strong multicollinearity or other numerical problems."
      ],
      "text/plain": [
       "<class 'statsmodels.iolib.summary.Summary'>\n",
       "\"\"\"\n",
       "                            OLS Regression Results                            \n",
       "==============================================================================\n",
       "Dep. Variable:             Call Price   R-squared:                       0.856\n",
       "Model:                            OLS   Adj. R-squared:                  0.856\n",
       "Method:                 Least Squares   F-statistic:                 2.224e+05\n",
       "Date:                Mon, 21 Dec 2020   Prob (F-statistic):               0.00\n",
       "Time:                        02:55:25   Log-Likelihood:            -1.3348e+06\n",
       "No. Observations:              300000   AIC:                         2.670e+06\n",
       "Df Residuals:                  299991   BIC:                         2.670e+06\n",
       "Df Model:                           8                                         \n",
       "Covariance Type:            nonrobust                                         \n",
       "================================================================================\n",
       "                   coef    std err          t      P>|t|      [0.025      0.975]\n",
       "--------------------------------------------------------------------------------\n",
       "const          -96.4103      0.503   -191.518      0.000     -97.397     -95.424\n",
       "Stock Price      0.6305      0.002    416.891      0.000       0.628       0.633\n",
       "Strike Price    -0.3847      0.001   -258.561      0.000      -0.388      -0.382\n",
       "Maturity        21.2049      0.044    485.245      0.000      21.119      21.291\n",
       "Dividends     -253.5676      4.369    -58.036      0.000    -262.131    -245.004\n",
       "Risk-free      144.5833      1.456     99.333      0.000     141.730     147.436\n",
       "Volatility      93.6088      0.154    608.622      0.000      93.307      93.910\n",
       "moneyness       16.9441      0.499     33.937      0.000      15.965      17.923\n",
       "Indicator       -2.8141      0.143    -19.646      0.000      -3.095      -2.533\n",
       "==============================================================================\n",
       "Omnibus:                    13858.964   Durbin-Watson:                   2.007\n",
       "Prob(Omnibus):                  0.000   Jarque-Bera (JB):            27638.066\n",
       "Skew:                           0.338   Prob(JB):                         0.00\n",
       "Kurtosis:                       4.324   Cond. No.                     4.79e+04\n",
       "==============================================================================\n",
       "\n",
       "Notes:\n",
       "[1] Standard Errors assume that the covariance matrix of the errors is correctly specified.\n",
       "[2] The condition number is large, 4.79e+04. This might indicate that there are\n",
       "strong multicollinearity or other numerical problems.\n",
       "\"\"\""
      ]
     },
     "execution_count": 23,
     "metadata": {},
     "output_type": "execute_result"
    }
   ],
   "source": [
    "X  = call[['Stock Price','Strike Price','Maturity','Dividends','Risk-free','Volatility','moneyness','Indicator']]\n",
    "X = sm.add_constant(X)\n",
    "y = call['Call Price']\n",
    "reg = sm.OLS(y,X)\n",
    "results = reg.fit()\n",
    "results.summary()\n"
   ]
  }
 ],
 "metadata": {
  "kernelspec": {
   "display_name": "tf",
   "language": "python",
   "name": "tf"
  },
  "language_info": {
   "codemirror_mode": {
    "name": "ipython",
    "version": 3
   },
   "file_extension": ".py",
   "mimetype": "text/x-python",
   "name": "python",
   "nbconvert_exporter": "python",
   "pygments_lexer": "ipython3",
   "version": "3.8.5"
  }
 },
 "nbformat": 4,
 "nbformat_minor": 4
}
